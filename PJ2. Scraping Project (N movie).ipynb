{
 "cells": [
  {
   "cell_type": "markdown",
   "metadata": {},
   "source": [
    "# N movie preview scraping"
   ]
  },
  {
   "cell_type": "markdown",
   "metadata": {},
   "source": [
    "### Library\n",
    "#### - BeautifulSoup"
   ]
  },
  {
   "cell_type": "code",
   "execution_count": 115,
   "metadata": {},
   "outputs": [],
   "source": [
    "from bs4 import BeautifulSoup\n",
    "import requests\n",
    "from selenium import webdriver\n",
    "from time import sleep\n",
    "from selenium.webdriver import ActionChains"
   ]
  },
  {
   "cell_type": "code",
   "execution_count": 116,
   "metadata": {},
   "outputs": [
    {
     "data": {
      "text/plain": [
       "<Response [200]>"
      ]
     },
     "execution_count": 116,
     "metadata": {},
     "output_type": "execute_result"
    }
   ],
   "source": [
    "url = \"https://movie.naver.com/movie/point/af/list.nhn?target=before\"\n",
    "\n",
    "response = requests.get(url)\n",
    "response"
   ]
  },
  {
   "cell_type": "code",
   "execution_count": 117,
   "metadata": {},
   "outputs": [],
   "source": [
    "html = response.text"
   ]
  },
  {
   "cell_type": "code",
   "execution_count": 118,
   "metadata": {},
   "outputs": [],
   "source": [
    "soup = BeautifulSoup(html, \"lxml\")\n",
    "table = soup.find('table', attrs={'class':'list_netizen b_star'})\n",
    "page_result = table.find_all('tr')"
   ]
  },
  {
   "cell_type": "code",
   "execution_count": 119,
   "metadata": {},
   "outputs": [
    {
     "data": {
      "text/plain": [
       "<tr>\n",
       "<td class=\"ac num\">2365148</td>\n",
       "<td><div class=\"fr point_type_n\"><div class=\"mask\" style=\"width:90.0%\"></div></div></td>\n",
       "<td class=\"point\">9</td>\n",
       "<td class=\"title\">\n",
       "<a class=\"movie\" href=\"?st=mcode&amp;sword=176306&amp;target=before\">남산의 부장들</a>\n",
       "<br/>이병허이 안시성(양만춘)역 거절하고 선택한  김재규역,,기댛본다 \n",
       "\t\t\t\n",
       "\t\t\t\n",
       "\t\t\t\n",
       "\t\t\t\t\n",
       "\t\t\t\t\n",
       "\t\t\t\t\n",
       "\t\t\t\t<a class=\"report\" href=\"javascript:report('cad0****', 'Gl6HwJeQa+R+0DuFlidmy04O9gCB1/Ie8lHvsnEDQ9s=', '이병허이 안시성(양만춘)역 거절하고 선택한  김재규역,,기댛본다', '2365148', 'point_before');\" style=\"color:#8F8F8F\" title=\"새 창\">신고</a>\n",
       "</td>\n",
       "<td class=\"num\"><a class=\"author\" href=\"javascript:find_list('nickname','2365148','before');\">cad0****</a><br/>19.02.04</td>\n",
       "</tr>"
      ]
     },
     "execution_count": 119,
     "metadata": {},
     "output_type": "execute_result"
    }
   ],
   "source": [
    "page_result[1]"
   ]
  },
  {
   "cell_type": "code",
   "execution_count": 120,
   "metadata": {
    "scrolled": true
   },
   "outputs": [
    {
     "data": {
      "text/plain": [
       "<a class=\"movie\" href=\"?st=mcode&amp;sword=176306&amp;target=before\">남산의 부장들</a>"
      ]
     },
     "execution_count": 120,
     "metadata": {},
     "output_type": "execute_result"
    }
   ],
   "source": [
    "# movie name w.link\n",
    "page_result[1].find('a', attrs={'class':'movie'})"
   ]
  },
  {
   "cell_type": "code",
   "execution_count": 121,
   "metadata": {},
   "outputs": [
    {
     "data": {
      "text/plain": [
       "'2365148'"
      ]
     },
     "execution_count": 121,
     "metadata": {},
     "output_type": "execute_result"
    }
   ],
   "source": [
    "# idx\n",
    "page_result[1].find('td', attrs={'class':'ac num'}).text"
   ]
  },
  {
   "cell_type": "code",
   "execution_count": 122,
   "metadata": {},
   "outputs": [
    {
     "data": {
      "text/plain": [
       "<td class=\"point\">9</td>"
      ]
     },
     "execution_count": 122,
     "metadata": {},
     "output_type": "execute_result"
    }
   ],
   "source": [
    "# point\n",
    "page_result[1].find('td', attrs={'class':'point'})"
   ]
  },
  {
   "cell_type": "code",
   "execution_count": 123,
   "metadata": {},
   "outputs": [
    {
     "data": {
      "text/plain": [
       "'\\n남산의 부장들\\n이병허이 안시성(양만춘)역 거절하고 선택한  김재규역,,기댛본다 \\n\\t\\t\\t\\n\\t\\t\\t\\n\\t\\t\\t\\n\\t\\t\\t\\t\\n\\t\\t\\t\\t\\n\\t\\t\\t\\t\\n\\t\\t\\t\\t신고\\n'"
      ]
     },
     "execution_count": 123,
     "metadata": {},
     "output_type": "execute_result"
    }
   ],
   "source": [
    "# title w. preview\n",
    "page_result[1].find('td', attrs={'class':'title'}).text"
   ]
  },
  {
   "cell_type": "code",
   "execution_count": 124,
   "metadata": {},
   "outputs": [
    {
     "data": {
      "text/plain": [
       "'남산의 부장들'"
      ]
     },
     "execution_count": 124,
     "metadata": {},
     "output_type": "execute_result"
    }
   ],
   "source": [
    "page_result[1].find('a', attrs={'class' : 'movie'}).text"
   ]
  },
  {
   "cell_type": "code",
   "execution_count": 125,
   "metadata": {},
   "outputs": [
    {
     "data": {
      "text/plain": [
       "'이병허이 안시성(양만춘)역 거절하고 선택한  김재규역,,기댛본다 '"
      ]
     },
     "execution_count": 125,
     "metadata": {},
     "output_type": "execute_result"
    }
   ],
   "source": [
    "page_result[1].find('td', attrs={'class':'title'}).text.split('\\n')[2]"
   ]
  },
  {
   "cell_type": "code",
   "execution_count": 126,
   "metadata": {},
   "outputs": [],
   "source": [
    "default_link = \"https://movie.naver.com/movie/point/af/list.nhn\""
   ]
  },
  {
   "cell_type": "code",
   "execution_count": 127,
   "metadata": {},
   "outputs": [
    {
     "name": "stdout",
     "output_type": "stream",
     "text": [
      "2365148 남산의 부장들 9 이병허이 안시성(양만춘)역 거절하고 선택한  김재규역,,기댛본다  cad0**** 19.02.04 https://movie.naver.com/movie/point/af/list.nhn?st=mcode&sword=176306&target=before\n",
      "2365147 신밧드와 마법 양탄자 10 기대됩니다 어서 아이와 보러가고 싶어요^^  zinn**** 19.02.04 https://movie.naver.com/movie/point/af/list.nhn?st=mcode&sword=176306&target=before\n",
      "2365146 리버 8 주인공이 라오스 남부 섬에 갔는데 거긴 풍경이 아름다운데 (씨판돈), 러닝타임을 10분 늘리고 라오스 풍경을 더 보여줬으면 어땠을까 아쉬움., 그리고 주인공이 답답함.; 주인공이 도망칠 수밖에 없는 상황을 좀 더 개연성있게 했으면 좋았을 뻔.  cnnl**** 19.02.04 https://movie.naver.com/movie/point/af/list.nhn?st=mcode&sword=176306&target=before\n",
      "2365145 벨벳 버즈소 7 드라마로 나왔으면 괜찮았을까 싶은... 많이 아쉬운 와중에 제이크 질렌할만 섹시한 영화 ㅠ  clou**** 19.02.04 https://movie.naver.com/movie/point/af/list.nhn?st=mcode&sword=176306&target=before\n",
      "2365144 이든 레이크 10 여자주인공이 맘에들어서 재밌게봤다  rudx**** 19.02.04 https://movie.naver.com/movie/point/af/list.nhn?st=mcode&sword=176306&target=before\n",
      "2365143 루프 6 선형적인 구조를 탈피하여 치밀함을 잃고 유연함을 얻다.  ajtw**** 19.02.04 https://movie.naver.com/movie/point/af/list.nhn?st=mcode&sword=176306&target=before\n",
      "2365142 어벤저 7 저예산 영화지만 배우들의 연기도 괜찮고  fait**** 19.02.04 https://movie.naver.com/movie/point/af/list.nhn?st=mcode&sword=176306&target=before\n",
      "2365141 알리타: 배틀 엔젤 8 개봉전 메타 크리틱 및 로튼 반응은 액션씬 훌륭하지만 스토리가 많이 아쉽다고 함  ho30**** 19.02.04 https://movie.naver.com/movie/point/af/list.nhn?st=mcode&sword=176306&target=before\n",
      "2365140 블랙 워터 1 허... 그냥 삼류영화 입니다.  dhka**** 19.02.04 https://movie.naver.com/movie/point/af/list.nhn?st=mcode&sword=176306&target=before\n",
      "2365139 로즈 레드 10 영화  괘안쿠먼  뭐 ~   긍정의  힘!!  dudm**** 19.02.04 https://movie.naver.com/movie/point/af/list.nhn?st=mcode&sword=176306&target=before\n"
     ]
    }
   ],
   "source": [
    "# main page scraping\n",
    "for td in page_result[1:]:\n",
    "    idx = int(td.find('td', attrs={'class':'ac num'}).text)\n",
    "    title = td.find('a', attrs={'class' : 'movie'}).text\n",
    "    point = int(td.find('td', attrs={'class':'point'}).text)\n",
    "    preview = td.find('td', attrs={'class':'title'}).text.split('\\n')[2]\n",
    "    writer = td.find('a', attrs={'class':'author'}).text\n",
    "    date = td.findAll('br')[1].next_sibling\n",
    "    link = default_link + page_result[1].find('a').attrs[\"href\"]\n",
    "\n",
    "    print(idx, title, point, preview, writer, date, link)"
   ]
  },
  {
   "cell_type": "code",
   "execution_count": 143,
   "metadata": {},
   "outputs": [
    {
     "name": "stdout",
     "output_type": "stream",
     "text": [
      "2365148 남산의 부장들 9 이병허이 안시성(양만춘)역 거절하고 선택한  김재규역,,기댛본다  cad0**** 19.02.04 https://movie.naver.com/movie/point/af/list.nhn?st=mcode&sword=176306&target=before\n",
      "2365147 신밧드와 마법 양탄자 10 기대됩니다 어서 아이와 보러가고 싶어요^^  zinn**** 19.02.04 https://movie.naver.com/movie/point/af/list.nhn?st=mcode&sword=176306&target=before\n",
      "2365146 리버 8 주인공이 라오스 남부 섬에 갔는데 거긴 풍경이 아름다운데 (씨판돈), 러닝타임을 10분 늘리고 라오스 풍경을 더 보여줬으면 어땠을까 아쉬움., 그리고 주인공이 답답함.; 주인공이 도망칠 수밖에 없는 상황을 좀 더 개연성있게 했으면 좋았을 뻔.  cnnl**** 19.02.04 https://movie.naver.com/movie/point/af/list.nhn?st=mcode&sword=176306&target=before\n",
      "2365145 벨벳 버즈소 7 드라마로 나왔으면 괜찮았을까 싶은... 많이 아쉬운 와중에 제이크 질렌할만 섹시한 영화 ㅠ  clou**** 19.02.04 https://movie.naver.com/movie/point/af/list.nhn?st=mcode&sword=176306&target=before\n",
      "2365144 이든 레이크 10 여자주인공이 맘에들어서 재밌게봤다  rudx**** 19.02.04 https://movie.naver.com/movie/point/af/list.nhn?st=mcode&sword=176306&target=before\n",
      "2365143 루프 6 선형적인 구조를 탈피하여 치밀함을 잃고 유연함을 얻다.  ajtw**** 19.02.04 https://movie.naver.com/movie/point/af/list.nhn?st=mcode&sword=176306&target=before\n",
      "2365142 어벤저 7 저예산 영화지만 배우들의 연기도 괜찮고  fait**** 19.02.04 https://movie.naver.com/movie/point/af/list.nhn?st=mcode&sword=176306&target=before\n",
      "2365141 알리타: 배틀 엔젤 8 개봉전 메타 크리틱 및 로튼 반응은 액션씬 훌륭하지만 스토리가 많이 아쉽다고 함  ho30**** 19.02.04 https://movie.naver.com/movie/point/af/list.nhn?st=mcode&sword=176306&target=before\n",
      "2365140 블랙 워터 1 허... 그냥 삼류영화 입니다.  dhka**** 19.02.04 https://movie.naver.com/movie/point/af/list.nhn?st=mcode&sword=176306&target=before\n",
      "2365139 로즈 레드 10 영화  괘안쿠먼  뭐 ~   긍정의  힘!!  dudm**** 19.02.04 https://movie.naver.com/movie/point/af/list.nhn?st=mcode&sword=176306&target=before\n"
     ]
    },
    {
     "data": {
      "text/plain": [
       "{0: {'idx': 2365148,\n",
       "  'title': '남산의 부장들',\n",
       "  'point': 9,\n",
       "  'preview': '이병허이 안시성(양만춘)역 거절하고 선택한  김재규역,,기댛본다 ',\n",
       "  'writer': 'cad0****',\n",
       "  'date': '19.02.04',\n",
       "  'link': 'https://movie.naver.com/movie/point/af/list.nhn?st=mcode&sword=176306&target=before'},\n",
       " 1: {'idx': 2365147,\n",
       "  'title': '신밧드와 마법 양탄자',\n",
       "  'point': 10,\n",
       "  'preview': '기대됩니다 어서 아이와 보러가고 싶어요^^ ',\n",
       "  'writer': 'zinn****',\n",
       "  'date': '19.02.04',\n",
       "  'link': 'https://movie.naver.com/movie/point/af/list.nhn?st=mcode&sword=176306&target=before'},\n",
       " 2: {'idx': 2365146,\n",
       "  'title': '리버',\n",
       "  'point': 8,\n",
       "  'preview': '주인공이 라오스 남부 섬에 갔는데 거긴 풍경이 아름다운데 (씨판돈), 러닝타임을 10분 늘리고 라오스 풍경을 더 보여줬으면 어땠을까 아쉬움., 그리고 주인공이 답답함.; 주인공이 도망칠 수밖에 없는 상황을 좀 더 개연성있게 했으면 좋았을 뻔. ',\n",
       "  'writer': 'cnnl****',\n",
       "  'date': '19.02.04',\n",
       "  'link': 'https://movie.naver.com/movie/point/af/list.nhn?st=mcode&sword=176306&target=before'},\n",
       " 3: {'idx': 2365145,\n",
       "  'title': '벨벳 버즈소',\n",
       "  'point': 7,\n",
       "  'preview': '드라마로 나왔으면 괜찮았을까 싶은... 많이 아쉬운 와중에 제이크 질렌할만 섹시한 영화 ㅠ ',\n",
       "  'writer': 'clou****',\n",
       "  'date': '19.02.04',\n",
       "  'link': 'https://movie.naver.com/movie/point/af/list.nhn?st=mcode&sword=176306&target=before'},\n",
       " 4: {'idx': 2365144,\n",
       "  'title': '이든 레이크',\n",
       "  'point': 10,\n",
       "  'preview': '여자주인공이 맘에들어서 재밌게봤다 ',\n",
       "  'writer': 'rudx****',\n",
       "  'date': '19.02.04',\n",
       "  'link': 'https://movie.naver.com/movie/point/af/list.nhn?st=mcode&sword=176306&target=before'},\n",
       " 5: {'idx': 2365143,\n",
       "  'title': '루프',\n",
       "  'point': 6,\n",
       "  'preview': '선형적인 구조를 탈피하여 치밀함을 잃고 유연함을 얻다. ',\n",
       "  'writer': 'ajtw****',\n",
       "  'date': '19.02.04',\n",
       "  'link': 'https://movie.naver.com/movie/point/af/list.nhn?st=mcode&sword=176306&target=before'},\n",
       " 6: {'idx': 2365142,\n",
       "  'title': '어벤저',\n",
       "  'point': 7,\n",
       "  'preview': '저예산 영화지만 배우들의 연기도 괜찮고 ',\n",
       "  'writer': 'fait****',\n",
       "  'date': '19.02.04',\n",
       "  'link': 'https://movie.naver.com/movie/point/af/list.nhn?st=mcode&sword=176306&target=before'},\n",
       " 7: {'idx': 2365141,\n",
       "  'title': '알리타: 배틀 엔젤',\n",
       "  'point': 8,\n",
       "  'preview': '개봉전 메타 크리틱 및 로튼 반응은 액션씬 훌륭하지만 스토리가 많이 아쉽다고 함 ',\n",
       "  'writer': 'ho30****',\n",
       "  'date': '19.02.04',\n",
       "  'link': 'https://movie.naver.com/movie/point/af/list.nhn?st=mcode&sword=176306&target=before'},\n",
       " 8: {'idx': 2365140,\n",
       "  'title': '블랙 워터',\n",
       "  'point': 1,\n",
       "  'preview': '허... 그냥 삼류영화 입니다. ',\n",
       "  'writer': 'dhka****',\n",
       "  'date': '19.02.04',\n",
       "  'link': 'https://movie.naver.com/movie/point/af/list.nhn?st=mcode&sword=176306&target=before'},\n",
       " 9: {'idx': 2365139,\n",
       "  'title': '로즈 레드',\n",
       "  'point': 10,\n",
       "  'preview': '영화  괘안쿠먼  뭐 ~   긍정의  힘!! ',\n",
       "  'writer': 'dudm****',\n",
       "  'date': '19.02.04',\n",
       "  'link': 'https://movie.naver.com/movie/point/af/list.nhn?st=mcode&sword=176306&target=before'}}"
      ]
     },
     "execution_count": 143,
     "metadata": {},
     "output_type": "execute_result"
    }
   ],
   "source": [
    "# adding dictionary\n",
    "main_preview_dict = {}\n",
    "\n",
    "\n",
    "for td,i in zip(page_result[1:], range(len(page_result))):\n",
    "    idx = int(td.find('td', attrs={'class':'ac num'}).text)\n",
    "    title = td.find('a', attrs={'class' : 'movie'}).text\n",
    "    point = int(td.find('td', attrs={'class':'point'}).text)\n",
    "    preview = td.find('td', attrs={'class':'title'}).text.split('\\n')[2]\n",
    "    writer = td.find('a', attrs={'class':'author'}).text\n",
    "    date = td.findAll('br')[1].next_sibling\n",
    "    link = default_link + page_result[1].find('a').attrs[\"href\"]\n",
    "\n",
    "    print(idx, title, point, preview, writer, date, link)\n",
    "\n",
    "    main_preview_dict[i] = dict([\n",
    "        (name, eval(name)) for name in [\"idx\", \"title\", \"point\", \"preview\", \"writer\", \"date\", \"link\"]\n",
    "    ])\n",
    "    \n",
    "main_preview_dict"
   ]
  },
  {
   "cell_type": "code",
   "execution_count": 129,
   "metadata": {},
   "outputs": [],
   "source": [
    "ch_driver = webdriver.Chrome('/users/jeongbeenlee/documents/data_analysis/fast_campus_dses/chromedriver')"
   ]
  },
  {
   "cell_type": "code",
   "execution_count": 130,
   "metadata": {},
   "outputs": [],
   "source": [
    "ch_driver.implicitly_wait(5)\n",
    "main_url = \"https://movie.naver.com/movie/point/af/list.nhn?target=before\"\n",
    "ch_driver.get(main_url)"
   ]
  },
  {
   "cell_type": "code",
   "execution_count": 16,
   "metadata": {},
   "outputs": [],
   "source": [
    "next_btn = ch_driver.find_element_by_class_name(\"pg_next\")\n",
    "##next_btn.click()"
   ]
  },
  {
   "cell_type": "code",
   "execution_count": 131,
   "metadata": {},
   "outputs": [],
   "source": [
    "# paging - ActionChains로 구현\n",
    "CSS_btn_next = \".paging a.pg_next\"\n",
    "def go_next_page():\n",
    "    next_btn = ch_driver.find_element_by_css_selector(CSS_btn_next)\n",
    "    ActionChains(ch_driver).click(next_btn).perform()"
   ]
  },
  {
   "cell_type": "code",
   "execution_count": null,
   "metadata": {},
   "outputs": [],
   "source": [
    "go_next_page()"
   ]
  },
  {
   "cell_type": "code",
   "execution_count": 145,
   "metadata": {},
   "outputs": [
    {
     "ename": "TypeError",
     "evalue": "'dict' object is not callable",
     "output_type": "error",
     "traceback": [
      "\u001b[0;31m---------------------------------------------------------------------------\u001b[0m",
      "\u001b[0;31mTypeError\u001b[0m                                 Traceback (most recent call last)",
      "\u001b[0;32m<ipython-input-145-60042c7053d5>\u001b[0m in \u001b[0;36m<module>\u001b[0;34m\u001b[0m\n\u001b[1;32m      5\u001b[0m \u001b[0;34m\u001b[0m\u001b[0m\n\u001b[1;32m      6\u001b[0m \u001b[0;32mfor\u001b[0m \u001b[0mi\u001b[0m \u001b[0;32min\u001b[0m \u001b[0mrange\u001b[0m\u001b[0;34m(\u001b[0m\u001b[0;36m3\u001b[0m\u001b[0;34m)\u001b[0m\u001b[0;34m:\u001b[0m\u001b[0;34m\u001b[0m\u001b[0;34m\u001b[0m\u001b[0m\n\u001b[0;32m----> 7\u001b[0;31m     \u001b[0mall_result\u001b[0m\u001b[0;34m[\u001b[0m\u001b[0mi\u001b[0m\u001b[0;34m]\u001b[0m \u001b[0;34m=\u001b[0m \u001b[0mmain_preview_dict\u001b[0m\u001b[0;34m(\u001b[0m\u001b[0;34m)\u001b[0m\u001b[0;34m\u001b[0m\u001b[0;34m\u001b[0m\u001b[0m\n\u001b[0m\u001b[1;32m      8\u001b[0m     \u001b[0mgo_next_page\u001b[0m\u001b[0;34m(\u001b[0m\u001b[0;34m)\u001b[0m\u001b[0;34m\u001b[0m\u001b[0;34m\u001b[0m\u001b[0m\n\u001b[1;32m      9\u001b[0m     \u001b[0msleep\u001b[0m\u001b[0;34m(\u001b[0m\u001b[0;36m5\u001b[0m\u001b[0;34m)\u001b[0m\u001b[0;34m\u001b[0m\u001b[0;34m\u001b[0m\u001b[0m\n",
      "\u001b[0;31mTypeError\u001b[0m: 'dict' object is not callable"
     ]
    }
   ],
   "source": []
  },
  {
   "cell_type": "code",
   "execution_count": 148,
   "metadata": {},
   "outputs": [],
   "source": [
    "# def main_preview\n",
    "\n",
    "def main_result():\n",
    "    result_list=[]\n",
    "    for td in page_result[1:]:\n",
    "        idx = int(td.find('td', attrs={'class':'ac num'}).text)\n",
    "        title = td.find('a', attrs={'class' : 'movie'}).text\n",
    "        point = int(td.find('td', attrs={'class':'point'}).text)\n",
    "        preview = td.find('td', attrs={'class':'title'}).text.split('\\n')[2]\n",
    "        writer = td.find('a', attrs={'class':'author'}).text\n",
    "        date = td.findAll('br')[1].next_sibling\n",
    "        link = default_link + page_result[1].find('a').attrs[\"href\"]\n",
    "\n",
    "        result_list.append([idx, title, point, preview, writer, date, link])\n",
    "    return result_list\n",
    "\n"
   ]
  },
  {
   "cell_type": "code",
   "execution_count": 149,
   "metadata": {},
   "outputs": [
    {
     "data": {
      "text/plain": [
       "[[2365148,\n",
       "  '남산의 부장들',\n",
       "  9,\n",
       "  '이병허이 안시성(양만춘)역 거절하고 선택한  김재규역,,기댛본다 ',\n",
       "  'cad0****',\n",
       "  '19.02.04',\n",
       "  'https://movie.naver.com/movie/point/af/list.nhn?st=mcode&sword=176306&target=before'],\n",
       " [2365147,\n",
       "  '신밧드와 마법 양탄자',\n",
       "  10,\n",
       "  '기대됩니다 어서 아이와 보러가고 싶어요^^ ',\n",
       "  'zinn****',\n",
       "  '19.02.04',\n",
       "  'https://movie.naver.com/movie/point/af/list.nhn?st=mcode&sword=176306&target=before'],\n",
       " [2365146,\n",
       "  '리버',\n",
       "  8,\n",
       "  '주인공이 라오스 남부 섬에 갔는데 거긴 풍경이 아름다운데 (씨판돈), 러닝타임을 10분 늘리고 라오스 풍경을 더 보여줬으면 어땠을까 아쉬움., 그리고 주인공이 답답함.; 주인공이 도망칠 수밖에 없는 상황을 좀 더 개연성있게 했으면 좋았을 뻔. ',\n",
       "  'cnnl****',\n",
       "  '19.02.04',\n",
       "  'https://movie.naver.com/movie/point/af/list.nhn?st=mcode&sword=176306&target=before'],\n",
       " [2365145,\n",
       "  '벨벳 버즈소',\n",
       "  7,\n",
       "  '드라마로 나왔으면 괜찮았을까 싶은... 많이 아쉬운 와중에 제이크 질렌할만 섹시한 영화 ㅠ ',\n",
       "  'clou****',\n",
       "  '19.02.04',\n",
       "  'https://movie.naver.com/movie/point/af/list.nhn?st=mcode&sword=176306&target=before'],\n",
       " [2365144,\n",
       "  '이든 레이크',\n",
       "  10,\n",
       "  '여자주인공이 맘에들어서 재밌게봤다 ',\n",
       "  'rudx****',\n",
       "  '19.02.04',\n",
       "  'https://movie.naver.com/movie/point/af/list.nhn?st=mcode&sword=176306&target=before'],\n",
       " [2365143,\n",
       "  '루프',\n",
       "  6,\n",
       "  '선형적인 구조를 탈피하여 치밀함을 잃고 유연함을 얻다. ',\n",
       "  'ajtw****',\n",
       "  '19.02.04',\n",
       "  'https://movie.naver.com/movie/point/af/list.nhn?st=mcode&sword=176306&target=before'],\n",
       " [2365142,\n",
       "  '어벤저',\n",
       "  7,\n",
       "  '저예산 영화지만 배우들의 연기도 괜찮고 ',\n",
       "  'fait****',\n",
       "  '19.02.04',\n",
       "  'https://movie.naver.com/movie/point/af/list.nhn?st=mcode&sword=176306&target=before'],\n",
       " [2365141,\n",
       "  '알리타: 배틀 엔젤',\n",
       "  8,\n",
       "  '개봉전 메타 크리틱 및 로튼 반응은 액션씬 훌륭하지만 스토리가 많이 아쉽다고 함 ',\n",
       "  'ho30****',\n",
       "  '19.02.04',\n",
       "  'https://movie.naver.com/movie/point/af/list.nhn?st=mcode&sword=176306&target=before'],\n",
       " [2365140,\n",
       "  '블랙 워터',\n",
       "  1,\n",
       "  '허... 그냥 삼류영화 입니다. ',\n",
       "  'dhka****',\n",
       "  '19.02.04',\n",
       "  'https://movie.naver.com/movie/point/af/list.nhn?st=mcode&sword=176306&target=before'],\n",
       " [2365139,\n",
       "  '로즈 레드',\n",
       "  10,\n",
       "  '영화  괘안쿠먼  뭐 ~   긍정의  힘!! ',\n",
       "  'dudm****',\n",
       "  '19.02.04',\n",
       "  'https://movie.naver.com/movie/point/af/list.nhn?st=mcode&sword=176306&target=before']]"
      ]
     },
     "execution_count": 149,
     "metadata": {},
     "output_type": "execute_result"
    }
   ],
   "source": [
    "main_result()"
   ]
  },
  {
   "cell_type": "code",
   "execution_count": 134,
   "metadata": {},
   "outputs": [],
   "source": [
    "def main_dict():\n",
    "    result = {}\n",
    "    result_list = main_result()\n",
    "    \n",
    "    for i in range(10):\n",
    "       \n",
    "        result[i+1] = (result_list[i])\n",
    "        \n",
    "    return result"
   ]
  },
  {
   "cell_type": "code",
   "execution_count": 135,
   "metadata": {},
   "outputs": [
    {
     "data": {
      "text/plain": [
       "{1: [2365148,\n",
       "  '남산의 부장들',\n",
       "  9,\n",
       "  '이병허이 안시성(양만춘)역 거절하고 선택한  김재규역,,기댛본다 ',\n",
       "  'cad0****',\n",
       "  '19.02.04',\n",
       "  'https://movie.naver.com/movie/point/af/list.nhn?st=mcode&sword=176306&target=before'],\n",
       " 2: [2365147,\n",
       "  '신밧드와 마법 양탄자',\n",
       "  10,\n",
       "  '기대됩니다 어서 아이와 보러가고 싶어요^^ ',\n",
       "  'zinn****',\n",
       "  '19.02.04',\n",
       "  'https://movie.naver.com/movie/point/af/list.nhn?st=mcode&sword=176306&target=before'],\n",
       " 3: [2365146,\n",
       "  '리버',\n",
       "  8,\n",
       "  '주인공이 라오스 남부 섬에 갔는데 거긴 풍경이 아름다운데 (씨판돈), 러닝타임을 10분 늘리고 라오스 풍경을 더 보여줬으면 어땠을까 아쉬움., 그리고 주인공이 답답함.; 주인공이 도망칠 수밖에 없는 상황을 좀 더 개연성있게 했으면 좋았을 뻔. ',\n",
       "  'cnnl****',\n",
       "  '19.02.04',\n",
       "  'https://movie.naver.com/movie/point/af/list.nhn?st=mcode&sword=176306&target=before'],\n",
       " 4: [2365145,\n",
       "  '벨벳 버즈소',\n",
       "  7,\n",
       "  '드라마로 나왔으면 괜찮았을까 싶은... 많이 아쉬운 와중에 제이크 질렌할만 섹시한 영화 ㅠ ',\n",
       "  'clou****',\n",
       "  '19.02.04',\n",
       "  'https://movie.naver.com/movie/point/af/list.nhn?st=mcode&sword=176306&target=before'],\n",
       " 5: [2365144,\n",
       "  '이든 레이크',\n",
       "  10,\n",
       "  '여자주인공이 맘에들어서 재밌게봤다 ',\n",
       "  'rudx****',\n",
       "  '19.02.04',\n",
       "  'https://movie.naver.com/movie/point/af/list.nhn?st=mcode&sword=176306&target=before'],\n",
       " 6: [2365143,\n",
       "  '루프',\n",
       "  6,\n",
       "  '선형적인 구조를 탈피하여 치밀함을 잃고 유연함을 얻다. ',\n",
       "  'ajtw****',\n",
       "  '19.02.04',\n",
       "  'https://movie.naver.com/movie/point/af/list.nhn?st=mcode&sword=176306&target=before'],\n",
       " 7: [2365142,\n",
       "  '어벤저',\n",
       "  7,\n",
       "  '저예산 영화지만 배우들의 연기도 괜찮고 ',\n",
       "  'fait****',\n",
       "  '19.02.04',\n",
       "  'https://movie.naver.com/movie/point/af/list.nhn?st=mcode&sword=176306&target=before'],\n",
       " 8: [2365141,\n",
       "  '알리타: 배틀 엔젤',\n",
       "  8,\n",
       "  '개봉전 메타 크리틱 및 로튼 반응은 액션씬 훌륭하지만 스토리가 많이 아쉽다고 함 ',\n",
       "  'ho30****',\n",
       "  '19.02.04',\n",
       "  'https://movie.naver.com/movie/point/af/list.nhn?st=mcode&sword=176306&target=before'],\n",
       " 9: [2365140,\n",
       "  '블랙 워터',\n",
       "  1,\n",
       "  '허... 그냥 삼류영화 입니다. ',\n",
       "  'dhka****',\n",
       "  '19.02.04',\n",
       "  'https://movie.naver.com/movie/point/af/list.nhn?st=mcode&sword=176306&target=before'],\n",
       " 10: [2365139,\n",
       "  '로즈 레드',\n",
       "  10,\n",
       "  '영화  괘안쿠먼  뭐 ~   긍정의  힘!! ',\n",
       "  'dudm****',\n",
       "  '19.02.04',\n",
       "  'https://movie.naver.com/movie/point/af/list.nhn?st=mcode&sword=176306&target=before']}"
      ]
     },
     "execution_count": 135,
     "metadata": {},
     "output_type": "execute_result"
    }
   ],
   "source": [
    "main_dict()"
   ]
  },
  {
   "cell_type": "code",
   "execution_count": 152,
   "metadata": {
    "scrolled": true
   },
   "outputs": [
    {
     "data": {
      "text/plain": [
       "[[[2365147,\n",
       "   '신밧드와 마법 양탄자',\n",
       "   10,\n",
       "   '기대됩니다 어서 아이와 보러가고 싶어요^^ ',\n",
       "   'zinn****',\n",
       "   '19.02.04',\n",
       "   'https://movie.naver.com/movie/point/af/list.nhn?st=mcode&sword=181034&target=before'],\n",
       "  [2365146,\n",
       "   '리버',\n",
       "   8,\n",
       "   '주인공이 라오스 남부 섬에 갔는데 거긴 풍경이 아름다운데 (씨판돈), 러닝타임을 10분 늘리고 라오스 풍경을 더 보여줬으면 어땠을까 아쉬움., 그리고 주인공이 답답함.; 주인공이 도망칠 수밖에 없는 상황을 좀 더 개연성있게 했으면 좋았을 뻔. ',\n",
       "   'cnnl****',\n",
       "   '19.02.04',\n",
       "   'https://movie.naver.com/movie/point/af/list.nhn?st=mcode&sword=181034&target=before'],\n",
       "  [2365145,\n",
       "   '벨벳 버즈소',\n",
       "   7,\n",
       "   '드라마로 나왔으면 괜찮았을까 싶은... 많이 아쉬운 와중에 제이크 질렌할만 섹시한 영화 ㅠ ',\n",
       "   'clou****',\n",
       "   '19.02.04',\n",
       "   'https://movie.naver.com/movie/point/af/list.nhn?st=mcode&sword=181034&target=before'],\n",
       "  [2365144,\n",
       "   '이든 레이크',\n",
       "   10,\n",
       "   '여자주인공이 맘에들어서 재밌게봤다 ',\n",
       "   'rudx****',\n",
       "   '19.02.04',\n",
       "   'https://movie.naver.com/movie/point/af/list.nhn?st=mcode&sword=181034&target=before'],\n",
       "  [2365143,\n",
       "   '루프',\n",
       "   6,\n",
       "   '선형적인 구조를 탈피하여 치밀함을 잃고 유연함을 얻다. ',\n",
       "   'ajtw****',\n",
       "   '19.02.04',\n",
       "   'https://movie.naver.com/movie/point/af/list.nhn?st=mcode&sword=181034&target=before'],\n",
       "  [2365142,\n",
       "   '어벤저',\n",
       "   7,\n",
       "   '저예산 영화지만 배우들의 연기도 괜찮고 ',\n",
       "   'fait****',\n",
       "   '19.02.04',\n",
       "   'https://movie.naver.com/movie/point/af/list.nhn?st=mcode&sword=181034&target=before'],\n",
       "  [2365141,\n",
       "   '알리타: 배틀 엔젤',\n",
       "   8,\n",
       "   '개봉전 메타 크리틱 및 로튼 반응은 액션씬 훌륭하지만 스토리가 많이 아쉽다고 함 ',\n",
       "   'ho30****',\n",
       "   '19.02.04',\n",
       "   'https://movie.naver.com/movie/point/af/list.nhn?st=mcode&sword=181034&target=before'],\n",
       "  [2365140,\n",
       "   '블랙 워터',\n",
       "   1,\n",
       "   '허... 그냥 삼류영화 입니다. ',\n",
       "   'dhka****',\n",
       "   '19.02.04',\n",
       "   'https://movie.naver.com/movie/point/af/list.nhn?st=mcode&sword=181034&target=before'],\n",
       "  [2365139,\n",
       "   '로즈 레드',\n",
       "   10,\n",
       "   '영화  괘안쿠먼  뭐 ~   긍정의  힘!! ',\n",
       "   'dudm****',\n",
       "   '19.02.04',\n",
       "   'https://movie.naver.com/movie/point/af/list.nhn?st=mcode&sword=181034&target=before'],\n",
       "  [2365138,\n",
       "   '신밧드와 마법 양탄자',\n",
       "   10,\n",
       "   '아이들이 너무 재밌어할거 같아요. 방학때라 심심해하는데 꼭 보러가야겠어요~ 넘 기대되네요~ ',\n",
       "   'sh10****',\n",
       "   '19.02.04',\n",
       "   'https://movie.naver.com/movie/point/af/list.nhn?st=mcode&sword=181034&target=before']]]"
      ]
     },
     "execution_count": 152,
     "metadata": {},
     "output_type": "execute_result"
    }
   ],
   "source": [
    "## for문이 돌지않고 첫페이지 데이터만 쌓임\n",
    "def main_preview_list():\n",
    "    all_main_result = []\n",
    "\n",
    "    ch_driver.implicitly_wait(5)\n",
    "\n",
    "\n",
    "    for i in range(1, 3+1):\n",
    "\n",
    "        go_next_page()    \n",
    "        result_list = main_result()\n",
    "        all_main_result.append(result_list)\n",
    "\n",
    "        sleep(5)\n",
    "    \n",
    "return all_main_result"
   ]
  },
  {
   "cell_type": "code",
   "execution_count": 151,
   "metadata": {},
   "outputs": [
    {
     "data": {
      "text/plain": [
       "[[[2365147,\n",
       "   '신밧드와 마법 양탄자',\n",
       "   10,\n",
       "   '기대됩니다 어서 아이와 보러가고 싶어요^^ ',\n",
       "   'zinn****',\n",
       "   '19.02.04',\n",
       "   'https://movie.naver.com/movie/point/af/list.nhn?st=mcode&sword=181034&target=before'],\n",
       "  [2365146,\n",
       "   '리버',\n",
       "   8,\n",
       "   '주인공이 라오스 남부 섬에 갔는데 거긴 풍경이 아름다운데 (씨판돈), 러닝타임을 10분 늘리고 라오스 풍경을 더 보여줬으면 어땠을까 아쉬움., 그리고 주인공이 답답함.; 주인공이 도망칠 수밖에 없는 상황을 좀 더 개연성있게 했으면 좋았을 뻔. ',\n",
       "   'cnnl****',\n",
       "   '19.02.04',\n",
       "   'https://movie.naver.com/movie/point/af/list.nhn?st=mcode&sword=181034&target=before'],\n",
       "  [2365145,\n",
       "   '벨벳 버즈소',\n",
       "   7,\n",
       "   '드라마로 나왔으면 괜찮았을까 싶은... 많이 아쉬운 와중에 제이크 질렌할만 섹시한 영화 ㅠ ',\n",
       "   'clou****',\n",
       "   '19.02.04',\n",
       "   'https://movie.naver.com/movie/point/af/list.nhn?st=mcode&sword=181034&target=before'],\n",
       "  [2365144,\n",
       "   '이든 레이크',\n",
       "   10,\n",
       "   '여자주인공이 맘에들어서 재밌게봤다 ',\n",
       "   'rudx****',\n",
       "   '19.02.04',\n",
       "   'https://movie.naver.com/movie/point/af/list.nhn?st=mcode&sword=181034&target=before'],\n",
       "  [2365143,\n",
       "   '루프',\n",
       "   6,\n",
       "   '선형적인 구조를 탈피하여 치밀함을 잃고 유연함을 얻다. ',\n",
       "   'ajtw****',\n",
       "   '19.02.04',\n",
       "   'https://movie.naver.com/movie/point/af/list.nhn?st=mcode&sword=181034&target=before'],\n",
       "  [2365142,\n",
       "   '어벤저',\n",
       "   7,\n",
       "   '저예산 영화지만 배우들의 연기도 괜찮고 ',\n",
       "   'fait****',\n",
       "   '19.02.04',\n",
       "   'https://movie.naver.com/movie/point/af/list.nhn?st=mcode&sword=181034&target=before'],\n",
       "  [2365141,\n",
       "   '알리타: 배틀 엔젤',\n",
       "   8,\n",
       "   '개봉전 메타 크리틱 및 로튼 반응은 액션씬 훌륭하지만 스토리가 많이 아쉽다고 함 ',\n",
       "   'ho30****',\n",
       "   '19.02.04',\n",
       "   'https://movie.naver.com/movie/point/af/list.nhn?st=mcode&sword=181034&target=before'],\n",
       "  [2365140,\n",
       "   '블랙 워터',\n",
       "   1,\n",
       "   '허... 그냥 삼류영화 입니다. ',\n",
       "   'dhka****',\n",
       "   '19.02.04',\n",
       "   'https://movie.naver.com/movie/point/af/list.nhn?st=mcode&sword=181034&target=before'],\n",
       "  [2365139,\n",
       "   '로즈 레드',\n",
       "   10,\n",
       "   '영화  괘안쿠먼  뭐 ~   긍정의  힘!! ',\n",
       "   'dudm****',\n",
       "   '19.02.04',\n",
       "   'https://movie.naver.com/movie/point/af/list.nhn?st=mcode&sword=181034&target=before'],\n",
       "  [2365138,\n",
       "   '신밧드와 마법 양탄자',\n",
       "   10,\n",
       "   '아이들이 너무 재밌어할거 같아요. 방학때라 심심해하는데 꼭 보러가야겠어요~ 넘 기대되네요~ ',\n",
       "   'sh10****',\n",
       "   '19.02.04',\n",
       "   'https://movie.naver.com/movie/point/af/list.nhn?st=mcode&sword=181034&target=before']]]"
      ]
     },
     "execution_count": 151,
     "metadata": {},
     "output_type": "execute_result"
    }
   ],
   "source": [
    "all_main_result"
   ]
  },
  {
   "cell_type": "code",
   "execution_count": 97,
   "metadata": {},
   "outputs": [
    {
     "ename": "WebDriverException",
     "evalue": "Message: unknown error: fnPagingMove is not defined\n  (Session info: chrome=71.0.3578.98)\n  (Driver info: chromedriver=2.45.615355 (d5698f682d8b2742017df6c81e0bd8e6a3063189),platform=Mac OS X 10.14.0 x86_64)\n",
     "output_type": "error",
     "traceback": [
      "\u001b[0;31m---------------------------------------------------------------------------\u001b[0m",
      "\u001b[0;31mWebDriverException\u001b[0m                        Traceback (most recent call last)",
      "\u001b[0;32m<ipython-input-97-3552276ac747>\u001b[0m in \u001b[0;36m<module>\u001b[0;34m\u001b[0m\n\u001b[0;32m----> 1\u001b[0;31m \u001b[0mch_driver\u001b[0m\u001b[0;34m.\u001b[0m\u001b[0mexecute_script\u001b[0m\u001b[0;34m(\u001b[0m\u001b[0;34m\"fnPagingMove(2);\"\u001b[0m\u001b[0;34m)\u001b[0m\u001b[0;34m\u001b[0m\u001b[0;34m\u001b[0m\u001b[0m\n\u001b[0m",
      "\u001b[0;32m/usr/local/lib/python3.7/site-packages/selenium/webdriver/remote/webdriver.py\u001b[0m in \u001b[0;36mexecute_script\u001b[0;34m(self, script, *args)\u001b[0m\n\u001b[1;32m    634\u001b[0m         return self.execute(command, {\n\u001b[1;32m    635\u001b[0m             \u001b[0;34m'script'\u001b[0m\u001b[0;34m:\u001b[0m \u001b[0mscript\u001b[0m\u001b[0;34m,\u001b[0m\u001b[0;34m\u001b[0m\u001b[0;34m\u001b[0m\u001b[0m\n\u001b[0;32m--> 636\u001b[0;31m             'args': converted_args})['value']\n\u001b[0m\u001b[1;32m    637\u001b[0m \u001b[0;34m\u001b[0m\u001b[0m\n\u001b[1;32m    638\u001b[0m     \u001b[0;32mdef\u001b[0m \u001b[0mexecute_async_script\u001b[0m\u001b[0;34m(\u001b[0m\u001b[0mself\u001b[0m\u001b[0;34m,\u001b[0m \u001b[0mscript\u001b[0m\u001b[0;34m,\u001b[0m \u001b[0;34m*\u001b[0m\u001b[0margs\u001b[0m\u001b[0;34m)\u001b[0m\u001b[0;34m:\u001b[0m\u001b[0;34m\u001b[0m\u001b[0;34m\u001b[0m\u001b[0m\n",
      "\u001b[0;32m/usr/local/lib/python3.7/site-packages/selenium/webdriver/remote/webdriver.py\u001b[0m in \u001b[0;36mexecute\u001b[0;34m(self, driver_command, params)\u001b[0m\n\u001b[1;32m    319\u001b[0m         \u001b[0mresponse\u001b[0m \u001b[0;34m=\u001b[0m \u001b[0mself\u001b[0m\u001b[0;34m.\u001b[0m\u001b[0mcommand_executor\u001b[0m\u001b[0;34m.\u001b[0m\u001b[0mexecute\u001b[0m\u001b[0;34m(\u001b[0m\u001b[0mdriver_command\u001b[0m\u001b[0;34m,\u001b[0m \u001b[0mparams\u001b[0m\u001b[0;34m)\u001b[0m\u001b[0;34m\u001b[0m\u001b[0;34m\u001b[0m\u001b[0m\n\u001b[1;32m    320\u001b[0m         \u001b[0;32mif\u001b[0m \u001b[0mresponse\u001b[0m\u001b[0;34m:\u001b[0m\u001b[0;34m\u001b[0m\u001b[0;34m\u001b[0m\u001b[0m\n\u001b[0;32m--> 321\u001b[0;31m             \u001b[0mself\u001b[0m\u001b[0;34m.\u001b[0m\u001b[0merror_handler\u001b[0m\u001b[0;34m.\u001b[0m\u001b[0mcheck_response\u001b[0m\u001b[0;34m(\u001b[0m\u001b[0mresponse\u001b[0m\u001b[0;34m)\u001b[0m\u001b[0;34m\u001b[0m\u001b[0;34m\u001b[0m\u001b[0m\n\u001b[0m\u001b[1;32m    322\u001b[0m             response['value'] = self._unwrap_value(\n\u001b[1;32m    323\u001b[0m                 response.get('value', None))\n",
      "\u001b[0;32m/usr/local/lib/python3.7/site-packages/selenium/webdriver/remote/errorhandler.py\u001b[0m in \u001b[0;36mcheck_response\u001b[0;34m(self, response)\u001b[0m\n\u001b[1;32m    240\u001b[0m                 \u001b[0malert_text\u001b[0m \u001b[0;34m=\u001b[0m \u001b[0mvalue\u001b[0m\u001b[0;34m[\u001b[0m\u001b[0;34m'alert'\u001b[0m\u001b[0;34m]\u001b[0m\u001b[0;34m.\u001b[0m\u001b[0mget\u001b[0m\u001b[0;34m(\u001b[0m\u001b[0;34m'text'\u001b[0m\u001b[0;34m)\u001b[0m\u001b[0;34m\u001b[0m\u001b[0;34m\u001b[0m\u001b[0m\n\u001b[1;32m    241\u001b[0m             \u001b[0;32mraise\u001b[0m \u001b[0mexception_class\u001b[0m\u001b[0;34m(\u001b[0m\u001b[0mmessage\u001b[0m\u001b[0;34m,\u001b[0m \u001b[0mscreen\u001b[0m\u001b[0;34m,\u001b[0m \u001b[0mstacktrace\u001b[0m\u001b[0;34m,\u001b[0m \u001b[0malert_text\u001b[0m\u001b[0;34m)\u001b[0m\u001b[0;34m\u001b[0m\u001b[0;34m\u001b[0m\u001b[0m\n\u001b[0;32m--> 242\u001b[0;31m         \u001b[0;32mraise\u001b[0m \u001b[0mexception_class\u001b[0m\u001b[0;34m(\u001b[0m\u001b[0mmessage\u001b[0m\u001b[0;34m,\u001b[0m \u001b[0mscreen\u001b[0m\u001b[0;34m,\u001b[0m \u001b[0mstacktrace\u001b[0m\u001b[0;34m)\u001b[0m\u001b[0;34m\u001b[0m\u001b[0;34m\u001b[0m\u001b[0m\n\u001b[0m\u001b[1;32m    243\u001b[0m \u001b[0;34m\u001b[0m\u001b[0m\n\u001b[1;32m    244\u001b[0m     \u001b[0;32mdef\u001b[0m \u001b[0m_value_or_default\u001b[0m\u001b[0;34m(\u001b[0m\u001b[0mself\u001b[0m\u001b[0;34m,\u001b[0m \u001b[0mobj\u001b[0m\u001b[0;34m,\u001b[0m \u001b[0mkey\u001b[0m\u001b[0;34m,\u001b[0m \u001b[0mdefault\u001b[0m\u001b[0;34m)\u001b[0m\u001b[0;34m:\u001b[0m\u001b[0;34m\u001b[0m\u001b[0;34m\u001b[0m\u001b[0m\n",
      "\u001b[0;31mWebDriverException\u001b[0m: Message: unknown error: fnPagingMove is not defined\n  (Session info: chrome=71.0.3578.98)\n  (Driver info: chromedriver=2.45.615355 (d5698f682d8b2742017df6c81e0bd8e6a3063189),platform=Mac OS X 10.14.0 x86_64)\n"
     ]
    }
   ],
   "source": []
  },
  {
   "cell_type": "code",
   "execution_count": null,
   "metadata": {},
   "outputs": [],
   "source": []
  }
 ],
 "metadata": {
  "kernelspec": {
   "display_name": "Python 3",
   "language": "python",
   "name": "python3"
  },
  "language_info": {
   "codemirror_mode": {
    "name": "ipython",
    "version": 3
   },
   "file_extension": ".py",
   "mimetype": "text/x-python",
   "name": "python",
   "nbconvert_exporter": "python",
   "pygments_lexer": "ipython3",
   "version": "3.7.2"
  }
 },
 "nbformat": 4,
 "nbformat_minor": 2
}
