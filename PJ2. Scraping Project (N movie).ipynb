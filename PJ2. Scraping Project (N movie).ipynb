{
 "cells": [
  {
   "cell_type": "markdown",
   "metadata": {},
   "source": [
    "# N movie preview scraping"
   ]
  },
  {
   "cell_type": "markdown",
   "metadata": {},
   "source": [
    "### Library\n",
    "#### - BeautifulSoup"
   ]
  },
  {
   "cell_type": "code",
   "execution_count": 36,
   "metadata": {},
   "outputs": [],
   "source": [
    "from bs4 import BeautifulSoup\n",
    "import requests\n",
    "from selenium import webdriver\n",
    "from time import sleep\n",
    "from selenium.webdriver import ActionChains"
   ]
  },
  {
   "cell_type": "code",
   "execution_count": 37,
   "metadata": {},
   "outputs": [
    {
     "data": {
      "text/plain": [
       "<Response [200]>"
      ]
     },
     "execution_count": 37,
     "metadata": {},
     "output_type": "execute_result"
    }
   ],
   "source": [
    "url = \"https://movie.naver.com/movie/point/af/list.nhn?target=before\"\n",
    "\n",
    "response = requests.get(url)\n",
    "response"
   ]
  },
  {
   "cell_type": "code",
   "execution_count": 38,
   "metadata": {},
   "outputs": [],
   "source": [
    "html = response.text"
   ]
  },
  {
   "cell_type": "code",
   "execution_count": 39,
   "metadata": {},
   "outputs": [],
   "source": [
    "soup = BeautifulSoup(html, \"lxml\")\n",
    "table = soup.find('table', attrs={'class':'list_netizen b_star'})\n",
    "page_result = table.find_all('tr')"
   ]
  },
  {
   "cell_type": "code",
   "execution_count": 40,
   "metadata": {},
   "outputs": [
    {
     "data": {
      "text/plain": [
       "<tr>\n",
       "<td class=\"ac num\">2365204</td>\n",
       "<td><div class=\"fr point_type_n\"><div class=\"mask\" style=\"width:10.0%\"></div></div></td>\n",
       "<td class=\"point\">1</td>\n",
       "<td class=\"title\">\n",
       "<a class=\"movie\" href=\"?st=mcode&amp;sword=173505&amp;target=before\">형님 아내4 - 우주공주 춘향 -</a>\n",
       "<br/>자연산이 보고 싶다... \n",
       "\t\t\t\n",
       "\t\t\t\n",
       "\t\t\t\n",
       "\t\t\t\t\n",
       "\t\t\t\t\n",
       "\t\t\t\t\n",
       "\t\t\t\t<a class=\"report\" href=\"javascript:report('adiv****', 'SpScajPyUpXSVJUkCdW90lY17mvTMtgjVg9cC1RVpfM=', '자연산이 보고 싶다...', '2365204', 'point_before');\" style=\"color:#8F8F8F\" title=\"새 창\">신고</a>\n",
       "</td>\n",
       "<td class=\"num\"><a class=\"author\" href=\"javascript:find_list('nickname','2365204','before');\">adiv****</a><br/>19.02.04</td>\n",
       "</tr>"
      ]
     },
     "execution_count": 40,
     "metadata": {},
     "output_type": "execute_result"
    }
   ],
   "source": [
    "page_result[1]"
   ]
  },
  {
   "cell_type": "code",
   "execution_count": 41,
   "metadata": {
    "scrolled": true
   },
   "outputs": [
    {
     "data": {
      "text/plain": [
       "<a class=\"movie\" href=\"?st=mcode&amp;sword=173505&amp;target=before\">형님 아내4 - 우주공주 춘향 -</a>"
      ]
     },
     "execution_count": 41,
     "metadata": {},
     "output_type": "execute_result"
    }
   ],
   "source": [
    "# movie name w.link\n",
    "page_result[1].find('a', attrs={'class':'movie'})"
   ]
  },
  {
   "cell_type": "code",
   "execution_count": 42,
   "metadata": {},
   "outputs": [
    {
     "data": {
      "text/plain": [
       "'2365204'"
      ]
     },
     "execution_count": 42,
     "metadata": {},
     "output_type": "execute_result"
    }
   ],
   "source": [
    "# idx\n",
    "page_result[1].find('td', attrs={'class':'ac num'}).text"
   ]
  },
  {
   "cell_type": "code",
   "execution_count": 43,
   "metadata": {},
   "outputs": [
    {
     "data": {
      "text/plain": [
       "<td class=\"point\">1</td>"
      ]
     },
     "execution_count": 43,
     "metadata": {},
     "output_type": "execute_result"
    }
   ],
   "source": [
    "# point\n",
    "page_result[1].find('td', attrs={'class':'point'})"
   ]
  },
  {
   "cell_type": "code",
   "execution_count": 44,
   "metadata": {},
   "outputs": [
    {
     "data": {
      "text/plain": [
       "'\\n형님 아내4 - 우주공주 춘향 -\\n자연산이 보고 싶다... \\n\\t\\t\\t\\n\\t\\t\\t\\n\\t\\t\\t\\n\\t\\t\\t\\t\\n\\t\\t\\t\\t\\n\\t\\t\\t\\t\\n\\t\\t\\t\\t신고\\n'"
      ]
     },
     "execution_count": 44,
     "metadata": {},
     "output_type": "execute_result"
    }
   ],
   "source": [
    "# title w. preview\n",
    "page_result[1].find('td', attrs={'class':'title'}).text"
   ]
  },
  {
   "cell_type": "code",
   "execution_count": 10,
   "metadata": {},
   "outputs": [
    {
     "data": {
      "text/plain": [
       "'남산의 부장들'"
      ]
     },
     "execution_count": 10,
     "metadata": {},
     "output_type": "execute_result"
    }
   ],
   "source": [
    "page_result[1].find('a', attrs={'class' : 'movie'}).text"
   ]
  },
  {
   "cell_type": "code",
   "execution_count": 11,
   "metadata": {},
   "outputs": [
    {
     "data": {
      "text/plain": [
       "'김재규 영화는 처음이닷. 이병헌 나오면 봐야지. 연기는 지존 ㅋㅋ '"
      ]
     },
     "execution_count": 11,
     "metadata": {},
     "output_type": "execute_result"
    }
   ],
   "source": [
    "page_result[1].find('td', attrs={'class':'title'}).text.split('\\n')[2]"
   ]
  },
  {
   "cell_type": "code",
   "execution_count": 12,
   "metadata": {},
   "outputs": [],
   "source": [
    "default_link = \"https://movie.naver.com/movie/point/af/list.nhn\""
   ]
  },
  {
   "cell_type": "code",
   "execution_count": 13,
   "metadata": {},
   "outputs": [
    {
     "name": "stdout",
     "output_type": "stream",
     "text": [
      "2365200 남산의 부장들 10 김재규 영화는 처음이닷. 이병헌 나오면 봐야지. 연기는 지존 ㅋㅋ  jogu**** 19.02.04 https://movie.naver.com/movie/point/af/list.nhn?st=mcode&sword=176306&target=before\n",
      "2365199 시스터스 브라더스 1 영화를 본 사람이면 평점알바가 있다는 사실을 알게될것이다  abra**** 19.02.04 https://movie.naver.com/movie/point/af/list.nhn?st=mcode&sword=176306&target=before\n",
      "2365197 대결 10 다시봐도 몰입감과 공포감이 장난 아님. 1시간 30분의 영화인데 몰입하고나니 순식간에 지나감ㅋㅋ 역시 스필버그는 스필버그야 ㄹㅇ  dani**** 19.02.04 https://movie.naver.com/movie/point/af/list.nhn?st=mcode&sword=176306&target=before\n",
      "2365196 레플리카 9 공상영화 좋아하는 사람이라면 재밌게 볼 영화 입니다. 지루하지 않고 간만에 좋은 영화 본거 같네요. 취향에 따라 좀 갈릴수는 있겠네요. 볼만 합니다.  sunw**** 19.02.04 https://movie.naver.com/movie/point/af/list.nhn?st=mcode&sword=176306&target=before\n",
      "2365195 바다의 침묵 9 서로에 대한 존중이란 무엇인지 가르쳐 주는 작품.  clie**** 19.02.04 https://movie.naver.com/movie/point/af/list.nhn?st=mcode&sword=176306&target=before\n",
      "2365194 알리타: 배틀 엔젤 10 알리타를 보기전까지 내 인생영화는 아바타였는데 알리타로 바꼈다? 제임스 카메론은 진짜 천재 그이상.  bamc**** 19.02.04 https://movie.naver.com/movie/point/af/list.nhn?st=mcode&sword=176306&target=before\n",
      "2365193 기묘한 가족 9 병맛잼ㅇㅈ!! 김남길 정재영 넘 좋아ㅠ  y3wn**** 19.02.04 https://movie.naver.com/movie/point/af/list.nhn?st=mcode&sword=176306&target=before\n",
      "2365192 콜드 체이싱 8 냉혹한 아버지의 복수극을 그렸다는 스타일리쉬 폭주액션이 짜릿한 카타르시스를 선사할 것으로 액션광으로서 무척  기대되네요  asia**** 19.02.04 https://movie.naver.com/movie/point/af/list.nhn?st=mcode&sword=176306&target=before\n",
      "2365191 캡틴 마블 1 민준국:내가 왜 브리라슨을 죽였는지 알아?! 꼴페미년이 함부로 주둥아리를  나불대서 그래 만일 니들이 페미질을 한다면 죽일거야 그리고 너희가족,부모들도 다죽일거고  yang**** 19.02.04 https://movie.naver.com/movie/point/af/list.nhn?st=mcode&sword=176306&target=before\n",
      "2365190 증인 1 공익제보자 신재민이 변호를 간청했는 데  단칼에 거부한 집단아냐? 민변! 영화를 동원해서 \"민변비어천가\" 빨아 줄 일이 있나 보지?  hsd2**** 19.02.04 https://movie.naver.com/movie/point/af/list.nhn?st=mcode&sword=176306&target=before\n"
     ]
    }
   ],
   "source": [
    "# main page scraping\n",
    "for td in page_result[1:]:\n",
    "    idx = int(td.find('td', attrs={'class':'ac num'}).text)\n",
    "    title = td.find('a', attrs={'class' : 'movie'}).text\n",
    "    point = int(td.find('td', attrs={'class':'point'}).text)\n",
    "    preview = td.find('td', attrs={'class':'title'}).text.split('\\n')[2]\n",
    "    writer = td.find('a', attrs={'class':'author'}).text\n",
    "    date = td.findAll('br')[1].next_sibling\n",
    "    link = default_link + page_result[1].find('a').attrs[\"href\"]\n",
    "\n",
    "    print(idx, title, point, preview, writer, date, link)"
   ]
  },
  {
   "cell_type": "code",
   "execution_count": 14,
   "metadata": {},
   "outputs": [
    {
     "name": "stdout",
     "output_type": "stream",
     "text": [
      "2365200 남산의 부장들 10 김재규 영화는 처음이닷. 이병헌 나오면 봐야지. 연기는 지존 ㅋㅋ  jogu**** 19.02.04 https://movie.naver.com/movie/point/af/list.nhn?st=mcode&sword=176306&target=before\n",
      "2365199 시스터스 브라더스 1 영화를 본 사람이면 평점알바가 있다는 사실을 알게될것이다  abra**** 19.02.04 https://movie.naver.com/movie/point/af/list.nhn?st=mcode&sword=176306&target=before\n",
      "2365197 대결 10 다시봐도 몰입감과 공포감이 장난 아님. 1시간 30분의 영화인데 몰입하고나니 순식간에 지나감ㅋㅋ 역시 스필버그는 스필버그야 ㄹㅇ  dani**** 19.02.04 https://movie.naver.com/movie/point/af/list.nhn?st=mcode&sword=176306&target=before\n",
      "2365196 레플리카 9 공상영화 좋아하는 사람이라면 재밌게 볼 영화 입니다. 지루하지 않고 간만에 좋은 영화 본거 같네요. 취향에 따라 좀 갈릴수는 있겠네요. 볼만 합니다.  sunw**** 19.02.04 https://movie.naver.com/movie/point/af/list.nhn?st=mcode&sword=176306&target=before\n",
      "2365195 바다의 침묵 9 서로에 대한 존중이란 무엇인지 가르쳐 주는 작품.  clie**** 19.02.04 https://movie.naver.com/movie/point/af/list.nhn?st=mcode&sword=176306&target=before\n",
      "2365194 알리타: 배틀 엔젤 10 알리타를 보기전까지 내 인생영화는 아바타였는데 알리타로 바꼈다? 제임스 카메론은 진짜 천재 그이상.  bamc**** 19.02.04 https://movie.naver.com/movie/point/af/list.nhn?st=mcode&sword=176306&target=before\n",
      "2365193 기묘한 가족 9 병맛잼ㅇㅈ!! 김남길 정재영 넘 좋아ㅠ  y3wn**** 19.02.04 https://movie.naver.com/movie/point/af/list.nhn?st=mcode&sword=176306&target=before\n",
      "2365192 콜드 체이싱 8 냉혹한 아버지의 복수극을 그렸다는 스타일리쉬 폭주액션이 짜릿한 카타르시스를 선사할 것으로 액션광으로서 무척  기대되네요  asia**** 19.02.04 https://movie.naver.com/movie/point/af/list.nhn?st=mcode&sword=176306&target=before\n",
      "2365191 캡틴 마블 1 민준국:내가 왜 브리라슨을 죽였는지 알아?! 꼴페미년이 함부로 주둥아리를  나불대서 그래 만일 니들이 페미질을 한다면 죽일거야 그리고 너희가족,부모들도 다죽일거고  yang**** 19.02.04 https://movie.naver.com/movie/point/af/list.nhn?st=mcode&sword=176306&target=before\n",
      "2365190 증인 1 공익제보자 신재민이 변호를 간청했는 데  단칼에 거부한 집단아냐? 민변! 영화를 동원해서 \"민변비어천가\" 빨아 줄 일이 있나 보지?  hsd2**** 19.02.04 https://movie.naver.com/movie/point/af/list.nhn?st=mcode&sword=176306&target=before\n"
     ]
    },
    {
     "data": {
      "text/plain": [
       "{0: {'idx': 2365200,\n",
       "  'title': '남산의 부장들',\n",
       "  'point': 10,\n",
       "  'preview': '김재규 영화는 처음이닷. 이병헌 나오면 봐야지. 연기는 지존 ㅋㅋ ',\n",
       "  'writer': 'jogu****',\n",
       "  'date': '19.02.04',\n",
       "  'link': 'https://movie.naver.com/movie/point/af/list.nhn?st=mcode&sword=176306&target=before'},\n",
       " 1: {'idx': 2365199,\n",
       "  'title': '시스터스 브라더스',\n",
       "  'point': 1,\n",
       "  'preview': '영화를 본 사람이면 평점알바가 있다는 사실을 알게될것이다 ',\n",
       "  'writer': 'abra****',\n",
       "  'date': '19.02.04',\n",
       "  'link': 'https://movie.naver.com/movie/point/af/list.nhn?st=mcode&sword=176306&target=before'},\n",
       " 2: {'idx': 2365197,\n",
       "  'title': '대결',\n",
       "  'point': 10,\n",
       "  'preview': '다시봐도 몰입감과 공포감이 장난 아님. 1시간 30분의 영화인데 몰입하고나니 순식간에 지나감ㅋㅋ 역시 스필버그는 스필버그야 ㄹㅇ ',\n",
       "  'writer': 'dani****',\n",
       "  'date': '19.02.04',\n",
       "  'link': 'https://movie.naver.com/movie/point/af/list.nhn?st=mcode&sword=176306&target=before'},\n",
       " 3: {'idx': 2365196,\n",
       "  'title': '레플리카',\n",
       "  'point': 9,\n",
       "  'preview': '공상영화 좋아하는 사람이라면 재밌게 볼 영화 입니다. 지루하지 않고 간만에 좋은 영화 본거 같네요. 취향에 따라 좀 갈릴수는 있겠네요. 볼만 합니다. ',\n",
       "  'writer': 'sunw****',\n",
       "  'date': '19.02.04',\n",
       "  'link': 'https://movie.naver.com/movie/point/af/list.nhn?st=mcode&sword=176306&target=before'},\n",
       " 4: {'idx': 2365195,\n",
       "  'title': '바다의 침묵',\n",
       "  'point': 9,\n",
       "  'preview': '서로에 대한 존중이란 무엇인지 가르쳐 주는 작품. ',\n",
       "  'writer': 'clie****',\n",
       "  'date': '19.02.04',\n",
       "  'link': 'https://movie.naver.com/movie/point/af/list.nhn?st=mcode&sword=176306&target=before'},\n",
       " 5: {'idx': 2365194,\n",
       "  'title': '알리타: 배틀 엔젤',\n",
       "  'point': 10,\n",
       "  'preview': '알리타를 보기전까지 내 인생영화는 아바타였는데 알리타로 바꼈다? 제임스 카메론은 진짜 천재 그이상. ',\n",
       "  'writer': 'bamc****',\n",
       "  'date': '19.02.04',\n",
       "  'link': 'https://movie.naver.com/movie/point/af/list.nhn?st=mcode&sword=176306&target=before'},\n",
       " 6: {'idx': 2365193,\n",
       "  'title': '기묘한 가족',\n",
       "  'point': 9,\n",
       "  'preview': '병맛잼ㅇㅈ!! 김남길 정재영 넘 좋아ㅠ ',\n",
       "  'writer': 'y3wn****',\n",
       "  'date': '19.02.04',\n",
       "  'link': 'https://movie.naver.com/movie/point/af/list.nhn?st=mcode&sword=176306&target=before'},\n",
       " 7: {'idx': 2365192,\n",
       "  'title': '콜드 체이싱',\n",
       "  'point': 8,\n",
       "  'preview': '냉혹한 아버지의 복수극을 그렸다는 스타일리쉬 폭주액션이 짜릿한 카타르시스를 선사할 것으로 액션광으로서 무척  기대되네요 ',\n",
       "  'writer': 'asia****',\n",
       "  'date': '19.02.04',\n",
       "  'link': 'https://movie.naver.com/movie/point/af/list.nhn?st=mcode&sword=176306&target=before'},\n",
       " 8: {'idx': 2365191,\n",
       "  'title': '캡틴 마블',\n",
       "  'point': 1,\n",
       "  'preview': '민준국:내가 왜 브리라슨을 죽였는지 알아?! 꼴페미년이 함부로 주둥아리를  나불대서 그래 만일 니들이 페미질을 한다면 죽일거야 그리고 너희가족,부모들도 다죽일거고 ',\n",
       "  'writer': 'yang****',\n",
       "  'date': '19.02.04',\n",
       "  'link': 'https://movie.naver.com/movie/point/af/list.nhn?st=mcode&sword=176306&target=before'},\n",
       " 9: {'idx': 2365190,\n",
       "  'title': '증인',\n",
       "  'point': 1,\n",
       "  'preview': '공익제보자 신재민이 변호를 간청했는 데  단칼에 거부한 집단아냐? 민변! 영화를 동원해서 \"민변비어천가\" 빨아 줄 일이 있나 보지? ',\n",
       "  'writer': 'hsd2****',\n",
       "  'date': '19.02.04',\n",
       "  'link': 'https://movie.naver.com/movie/point/af/list.nhn?st=mcode&sword=176306&target=before'}}"
      ]
     },
     "execution_count": 14,
     "metadata": {},
     "output_type": "execute_result"
    }
   ],
   "source": [
    "# adding dictionary\n",
    "main_preview_dict = {}\n",
    "\n",
    "\n",
    "for td,i in zip(page_result[1:], range(len(page_result))):\n",
    "    idx = int(td.find('td', attrs={'class':'ac num'}).text)\n",
    "    title = td.find('a', attrs={'class' : 'movie'}).text\n",
    "    point = int(td.find('td', attrs={'class':'point'}).text)\n",
    "    preview = td.find('td', attrs={'class':'title'}).text.split('\\n')[2]\n",
    "    writer = td.find('a', attrs={'class':'author'}).text\n",
    "    date = td.findAll('br')[1].next_sibling\n",
    "    link = default_link + page_result[1].find('a').attrs[\"href\"]\n",
    "\n",
    "    print(idx, title, point, preview, writer, date, link)\n",
    "\n",
    "    main_preview_dict[i] = dict([\n",
    "        (name, eval(name)) for name in [\"idx\", \"title\", \"point\", \"preview\", \"writer\", \"date\", \"link\"]\n",
    "    ])\n",
    "    \n",
    "main_preview_dict"
   ]
  },
  {
   "cell_type": "code",
   "execution_count": 15,
   "metadata": {},
   "outputs": [],
   "source": [
    "ch_driver = webdriver.Chrome('/users/jeongbeenlee/documents/data_analysis/fast_campus_dses/chromedriver')"
   ]
  },
  {
   "cell_type": "code",
   "execution_count": 16,
   "metadata": {},
   "outputs": [],
   "source": [
    "ch_driver.implicitly_wait(5)\n",
    "main_url = \"https://movie.naver.com/movie/point/af/list.nhn?target=before\"\n",
    "ch_driver.get(main_url)"
   ]
  },
  {
   "cell_type": "code",
   "execution_count": 17,
   "metadata": {},
   "outputs": [],
   "source": [
    "next_btn = ch_driver.find_element_by_class_name(\"pg_next\")\n",
    "##next_btn.click()"
   ]
  },
  {
   "cell_type": "code",
   "execution_count": 18,
   "metadata": {},
   "outputs": [],
   "source": [
    "# paging - ActionChains로 구현\n",
    "CSS_btn_next = \".paging a.pg_next\"\n",
    "def go_next_page():\n",
    "    next_btn = ch_driver.find_element_by_css_selector(CSS_btn_next)\n",
    "    ActionChains(ch_driver).click(next_btn).perform()"
   ]
  },
  {
   "cell_type": "code",
   "execution_count": 46,
   "metadata": {},
   "outputs": [],
   "source": [
    "go_next_page()"
   ]
  },
  {
   "cell_type": "code",
   "execution_count": 145,
   "metadata": {
    "scrolled": false
   },
   "outputs": [
    {
     "ename": "TypeError",
     "evalue": "'dict' object is not callable",
     "output_type": "error",
     "traceback": [
      "\u001b[0;31m---------------------------------------------------------------------------\u001b[0m",
      "\u001b[0;31mTypeError\u001b[0m                                 Traceback (most recent call last)",
      "\u001b[0;32m<ipython-input-145-60042c7053d5>\u001b[0m in \u001b[0;36m<module>\u001b[0;34m\u001b[0m\n\u001b[1;32m      5\u001b[0m \u001b[0;34m\u001b[0m\u001b[0m\n\u001b[1;32m      6\u001b[0m \u001b[0;32mfor\u001b[0m \u001b[0mi\u001b[0m \u001b[0;32min\u001b[0m \u001b[0mrange\u001b[0m\u001b[0;34m(\u001b[0m\u001b[0;36m3\u001b[0m\u001b[0;34m)\u001b[0m\u001b[0;34m:\u001b[0m\u001b[0;34m\u001b[0m\u001b[0;34m\u001b[0m\u001b[0m\n\u001b[0;32m----> 7\u001b[0;31m     \u001b[0mall_result\u001b[0m\u001b[0;34m[\u001b[0m\u001b[0mi\u001b[0m\u001b[0;34m]\u001b[0m \u001b[0;34m=\u001b[0m \u001b[0mmain_preview_dict\u001b[0m\u001b[0;34m(\u001b[0m\u001b[0;34m)\u001b[0m\u001b[0;34m\u001b[0m\u001b[0;34m\u001b[0m\u001b[0m\n\u001b[0m\u001b[1;32m      8\u001b[0m     \u001b[0mgo_next_page\u001b[0m\u001b[0;34m(\u001b[0m\u001b[0;34m)\u001b[0m\u001b[0;34m\u001b[0m\u001b[0;34m\u001b[0m\u001b[0m\n\u001b[1;32m      9\u001b[0m     \u001b[0msleep\u001b[0m\u001b[0;34m(\u001b[0m\u001b[0;36m5\u001b[0m\u001b[0;34m)\u001b[0m\u001b[0;34m\u001b[0m\u001b[0;34m\u001b[0m\u001b[0m\n",
      "\u001b[0;31mTypeError\u001b[0m: 'dict' object is not callable"
     ]
    }
   ],
   "source": []
  },
  {
   "cell_type": "code",
   "execution_count": 19,
   "metadata": {},
   "outputs": [],
   "source": [
    "# def main_preview\n",
    "\n",
    "def main_result():\n",
    "    result_list=[]\n",
    "    for td in page_result[1:]:\n",
    "        idx = int(td.find('td', attrs={'class':'ac num'}).text)\n",
    "        title = td.find('a', attrs={'class' : 'movie'}).text\n",
    "        point = int(td.find('td', attrs={'class':'point'}).text)\n",
    "        preview = td.find('td', attrs={'class':'title'}).text.split('\\n')[2]\n",
    "        writer = td.find('a', attrs={'class':'author'}).text\n",
    "        date = td.findAll('br')[1].next_sibling\n",
    "        link = default_link + page_result[1].find('a').attrs[\"href\"]\n",
    "\n",
    "        result_list.append([idx, title, point, preview, writer, date, link])\n",
    "    return result_list\n",
    "\n"
   ]
  },
  {
   "cell_type": "code",
   "execution_count": 20,
   "metadata": {},
   "outputs": [
    {
     "data": {
      "text/plain": [
       "[[2365200,\n",
       "  '남산의 부장들',\n",
       "  10,\n",
       "  '김재규 영화는 처음이닷. 이병헌 나오면 봐야지. 연기는 지존 ㅋㅋ ',\n",
       "  'jogu****',\n",
       "  '19.02.04',\n",
       "  'https://movie.naver.com/movie/point/af/list.nhn?st=mcode&sword=176306&target=before'],\n",
       " [2365199,\n",
       "  '시스터스 브라더스',\n",
       "  1,\n",
       "  '영화를 본 사람이면 평점알바가 있다는 사실을 알게될것이다 ',\n",
       "  'abra****',\n",
       "  '19.02.04',\n",
       "  'https://movie.naver.com/movie/point/af/list.nhn?st=mcode&sword=176306&target=before'],\n",
       " [2365197,\n",
       "  '대결',\n",
       "  10,\n",
       "  '다시봐도 몰입감과 공포감이 장난 아님. 1시간 30분의 영화인데 몰입하고나니 순식간에 지나감ㅋㅋ 역시 스필버그는 스필버그야 ㄹㅇ ',\n",
       "  'dani****',\n",
       "  '19.02.04',\n",
       "  'https://movie.naver.com/movie/point/af/list.nhn?st=mcode&sword=176306&target=before'],\n",
       " [2365196,\n",
       "  '레플리카',\n",
       "  9,\n",
       "  '공상영화 좋아하는 사람이라면 재밌게 볼 영화 입니다. 지루하지 않고 간만에 좋은 영화 본거 같네요. 취향에 따라 좀 갈릴수는 있겠네요. 볼만 합니다. ',\n",
       "  'sunw****',\n",
       "  '19.02.04',\n",
       "  'https://movie.naver.com/movie/point/af/list.nhn?st=mcode&sword=176306&target=before'],\n",
       " [2365195,\n",
       "  '바다의 침묵',\n",
       "  9,\n",
       "  '서로에 대한 존중이란 무엇인지 가르쳐 주는 작품. ',\n",
       "  'clie****',\n",
       "  '19.02.04',\n",
       "  'https://movie.naver.com/movie/point/af/list.nhn?st=mcode&sword=176306&target=before'],\n",
       " [2365194,\n",
       "  '알리타: 배틀 엔젤',\n",
       "  10,\n",
       "  '알리타를 보기전까지 내 인생영화는 아바타였는데 알리타로 바꼈다? 제임스 카메론은 진짜 천재 그이상. ',\n",
       "  'bamc****',\n",
       "  '19.02.04',\n",
       "  'https://movie.naver.com/movie/point/af/list.nhn?st=mcode&sword=176306&target=before'],\n",
       " [2365193,\n",
       "  '기묘한 가족',\n",
       "  9,\n",
       "  '병맛잼ㅇㅈ!! 김남길 정재영 넘 좋아ㅠ ',\n",
       "  'y3wn****',\n",
       "  '19.02.04',\n",
       "  'https://movie.naver.com/movie/point/af/list.nhn?st=mcode&sword=176306&target=before'],\n",
       " [2365192,\n",
       "  '콜드 체이싱',\n",
       "  8,\n",
       "  '냉혹한 아버지의 복수극을 그렸다는 스타일리쉬 폭주액션이 짜릿한 카타르시스를 선사할 것으로 액션광으로서 무척  기대되네요 ',\n",
       "  'asia****',\n",
       "  '19.02.04',\n",
       "  'https://movie.naver.com/movie/point/af/list.nhn?st=mcode&sword=176306&target=before'],\n",
       " [2365191,\n",
       "  '캡틴 마블',\n",
       "  1,\n",
       "  '민준국:내가 왜 브리라슨을 죽였는지 알아?! 꼴페미년이 함부로 주둥아리를  나불대서 그래 만일 니들이 페미질을 한다면 죽일거야 그리고 너희가족,부모들도 다죽일거고 ',\n",
       "  'yang****',\n",
       "  '19.02.04',\n",
       "  'https://movie.naver.com/movie/point/af/list.nhn?st=mcode&sword=176306&target=before'],\n",
       " [2365190,\n",
       "  '증인',\n",
       "  1,\n",
       "  '공익제보자 신재민이 변호를 간청했는 데  단칼에 거부한 집단아냐? 민변! 영화를 동원해서 \"민변비어천가\" 빨아 줄 일이 있나 보지? ',\n",
       "  'hsd2****',\n",
       "  '19.02.04',\n",
       "  'https://movie.naver.com/movie/point/af/list.nhn?st=mcode&sword=176306&target=before']]"
      ]
     },
     "execution_count": 20,
     "metadata": {},
     "output_type": "execute_result"
    }
   ],
   "source": [
    "main_result()"
   ]
  },
  {
   "cell_type": "code",
   "execution_count": 21,
   "metadata": {},
   "outputs": [],
   "source": [
    "def main_dict():\n",
    "    result = {}\n",
    "    result_list = main_result()\n",
    "    \n",
    "    for i in range(10):\n",
    "       \n",
    "        result[i+1] = (result_list[i])\n",
    "        \n",
    "    return result"
   ]
  },
  {
   "cell_type": "code",
   "execution_count": 22,
   "metadata": {},
   "outputs": [
    {
     "data": {
      "text/plain": [
       "{1: [2365200,\n",
       "  '남산의 부장들',\n",
       "  10,\n",
       "  '김재규 영화는 처음이닷. 이병헌 나오면 봐야지. 연기는 지존 ㅋㅋ ',\n",
       "  'jogu****',\n",
       "  '19.02.04',\n",
       "  'https://movie.naver.com/movie/point/af/list.nhn?st=mcode&sword=176306&target=before'],\n",
       " 2: [2365199,\n",
       "  '시스터스 브라더스',\n",
       "  1,\n",
       "  '영화를 본 사람이면 평점알바가 있다는 사실을 알게될것이다 ',\n",
       "  'abra****',\n",
       "  '19.02.04',\n",
       "  'https://movie.naver.com/movie/point/af/list.nhn?st=mcode&sword=176306&target=before'],\n",
       " 3: [2365197,\n",
       "  '대결',\n",
       "  10,\n",
       "  '다시봐도 몰입감과 공포감이 장난 아님. 1시간 30분의 영화인데 몰입하고나니 순식간에 지나감ㅋㅋ 역시 스필버그는 스필버그야 ㄹㅇ ',\n",
       "  'dani****',\n",
       "  '19.02.04',\n",
       "  'https://movie.naver.com/movie/point/af/list.nhn?st=mcode&sword=176306&target=before'],\n",
       " 4: [2365196,\n",
       "  '레플리카',\n",
       "  9,\n",
       "  '공상영화 좋아하는 사람이라면 재밌게 볼 영화 입니다. 지루하지 않고 간만에 좋은 영화 본거 같네요. 취향에 따라 좀 갈릴수는 있겠네요. 볼만 합니다. ',\n",
       "  'sunw****',\n",
       "  '19.02.04',\n",
       "  'https://movie.naver.com/movie/point/af/list.nhn?st=mcode&sword=176306&target=before'],\n",
       " 5: [2365195,\n",
       "  '바다의 침묵',\n",
       "  9,\n",
       "  '서로에 대한 존중이란 무엇인지 가르쳐 주는 작품. ',\n",
       "  'clie****',\n",
       "  '19.02.04',\n",
       "  'https://movie.naver.com/movie/point/af/list.nhn?st=mcode&sword=176306&target=before'],\n",
       " 6: [2365194,\n",
       "  '알리타: 배틀 엔젤',\n",
       "  10,\n",
       "  '알리타를 보기전까지 내 인생영화는 아바타였는데 알리타로 바꼈다? 제임스 카메론은 진짜 천재 그이상. ',\n",
       "  'bamc****',\n",
       "  '19.02.04',\n",
       "  'https://movie.naver.com/movie/point/af/list.nhn?st=mcode&sword=176306&target=before'],\n",
       " 7: [2365193,\n",
       "  '기묘한 가족',\n",
       "  9,\n",
       "  '병맛잼ㅇㅈ!! 김남길 정재영 넘 좋아ㅠ ',\n",
       "  'y3wn****',\n",
       "  '19.02.04',\n",
       "  'https://movie.naver.com/movie/point/af/list.nhn?st=mcode&sword=176306&target=before'],\n",
       " 8: [2365192,\n",
       "  '콜드 체이싱',\n",
       "  8,\n",
       "  '냉혹한 아버지의 복수극을 그렸다는 스타일리쉬 폭주액션이 짜릿한 카타르시스를 선사할 것으로 액션광으로서 무척  기대되네요 ',\n",
       "  'asia****',\n",
       "  '19.02.04',\n",
       "  'https://movie.naver.com/movie/point/af/list.nhn?st=mcode&sword=176306&target=before'],\n",
       " 9: [2365191,\n",
       "  '캡틴 마블',\n",
       "  1,\n",
       "  '민준국:내가 왜 브리라슨을 죽였는지 알아?! 꼴페미년이 함부로 주둥아리를  나불대서 그래 만일 니들이 페미질을 한다면 죽일거야 그리고 너희가족,부모들도 다죽일거고 ',\n",
       "  'yang****',\n",
       "  '19.02.04',\n",
       "  'https://movie.naver.com/movie/point/af/list.nhn?st=mcode&sword=176306&target=before'],\n",
       " 10: [2365190,\n",
       "  '증인',\n",
       "  1,\n",
       "  '공익제보자 신재민이 변호를 간청했는 데  단칼에 거부한 집단아냐? 민변! 영화를 동원해서 \"민변비어천가\" 빨아 줄 일이 있나 보지? ',\n",
       "  'hsd2****',\n",
       "  '19.02.04',\n",
       "  'https://movie.naver.com/movie/point/af/list.nhn?st=mcode&sword=176306&target=before']}"
      ]
     },
     "execution_count": 22,
     "metadata": {},
     "output_type": "execute_result"
    }
   ],
   "source": [
    "main_dict()"
   ]
  },
  {
   "cell_type": "code",
   "execution_count": 23,
   "metadata": {
    "scrolled": true
   },
   "outputs": [],
   "source": [
    "## for문이 돌지않고 첫페이지 데이터만 쌓임\n",
    "\n",
    "def main_preview_list():\n",
    "    all_main_result = []\n",
    "\n",
    "    ch_driver.implicitly_wait(5)\n",
    "\n",
    "\n",
    "    for i in range(1, 3+1):\n",
    "\n",
    "        go_next_page()    \n",
    "        result_list = main_result()\n",
    "        all_main_result.append(result_list)\n",
    "\n",
    "        sleep(5)\n",
    "    \n",
    "    return all_main_result"
   ]
  },
  {
   "cell_type": "code",
   "execution_count": 24,
   "metadata": {},
   "outputs": [
    {
     "data": {
      "text/plain": [
       "[[[2365200,\n",
       "   '남산의 부장들',\n",
       "   10,\n",
       "   '김재규 영화는 처음이닷. 이병헌 나오면 봐야지. 연기는 지존 ㅋㅋ ',\n",
       "   'jogu****',\n",
       "   '19.02.04',\n",
       "   'https://movie.naver.com/movie/point/af/list.nhn?st=mcode&sword=176306&target=before'],\n",
       "  [2365199,\n",
       "   '시스터스 브라더스',\n",
       "   1,\n",
       "   '영화를 본 사람이면 평점알바가 있다는 사실을 알게될것이다 ',\n",
       "   'abra****',\n",
       "   '19.02.04',\n",
       "   'https://movie.naver.com/movie/point/af/list.nhn?st=mcode&sword=176306&target=before'],\n",
       "  [2365197,\n",
       "   '대결',\n",
       "   10,\n",
       "   '다시봐도 몰입감과 공포감이 장난 아님. 1시간 30분의 영화인데 몰입하고나니 순식간에 지나감ㅋㅋ 역시 스필버그는 스필버그야 ㄹㅇ ',\n",
       "   'dani****',\n",
       "   '19.02.04',\n",
       "   'https://movie.naver.com/movie/point/af/list.nhn?st=mcode&sword=176306&target=before'],\n",
       "  [2365196,\n",
       "   '레플리카',\n",
       "   9,\n",
       "   '공상영화 좋아하는 사람이라면 재밌게 볼 영화 입니다. 지루하지 않고 간만에 좋은 영화 본거 같네요. 취향에 따라 좀 갈릴수는 있겠네요. 볼만 합니다. ',\n",
       "   'sunw****',\n",
       "   '19.02.04',\n",
       "   'https://movie.naver.com/movie/point/af/list.nhn?st=mcode&sword=176306&target=before'],\n",
       "  [2365195,\n",
       "   '바다의 침묵',\n",
       "   9,\n",
       "   '서로에 대한 존중이란 무엇인지 가르쳐 주는 작품. ',\n",
       "   'clie****',\n",
       "   '19.02.04',\n",
       "   'https://movie.naver.com/movie/point/af/list.nhn?st=mcode&sword=176306&target=before'],\n",
       "  [2365194,\n",
       "   '알리타: 배틀 엔젤',\n",
       "   10,\n",
       "   '알리타를 보기전까지 내 인생영화는 아바타였는데 알리타로 바꼈다? 제임스 카메론은 진짜 천재 그이상. ',\n",
       "   'bamc****',\n",
       "   '19.02.04',\n",
       "   'https://movie.naver.com/movie/point/af/list.nhn?st=mcode&sword=176306&target=before'],\n",
       "  [2365193,\n",
       "   '기묘한 가족',\n",
       "   9,\n",
       "   '병맛잼ㅇㅈ!! 김남길 정재영 넘 좋아ㅠ ',\n",
       "   'y3wn****',\n",
       "   '19.02.04',\n",
       "   'https://movie.naver.com/movie/point/af/list.nhn?st=mcode&sword=176306&target=before'],\n",
       "  [2365192,\n",
       "   '콜드 체이싱',\n",
       "   8,\n",
       "   '냉혹한 아버지의 복수극을 그렸다는 스타일리쉬 폭주액션이 짜릿한 카타르시스를 선사할 것으로 액션광으로서 무척  기대되네요 ',\n",
       "   'asia****',\n",
       "   '19.02.04',\n",
       "   'https://movie.naver.com/movie/point/af/list.nhn?st=mcode&sword=176306&target=before'],\n",
       "  [2365191,\n",
       "   '캡틴 마블',\n",
       "   1,\n",
       "   '민준국:내가 왜 브리라슨을 죽였는지 알아?! 꼴페미년이 함부로 주둥아리를  나불대서 그래 만일 니들이 페미질을 한다면 죽일거야 그리고 너희가족,부모들도 다죽일거고 ',\n",
       "   'yang****',\n",
       "   '19.02.04',\n",
       "   'https://movie.naver.com/movie/point/af/list.nhn?st=mcode&sword=176306&target=before'],\n",
       "  [2365190,\n",
       "   '증인',\n",
       "   1,\n",
       "   '공익제보자 신재민이 변호를 간청했는 데  단칼에 거부한 집단아냐? 민변! 영화를 동원해서 \"민변비어천가\" 빨아 줄 일이 있나 보지? ',\n",
       "   'hsd2****',\n",
       "   '19.02.04',\n",
       "   'https://movie.naver.com/movie/point/af/list.nhn?st=mcode&sword=176306&target=before']],\n",
       " [[2365200,\n",
       "   '남산의 부장들',\n",
       "   10,\n",
       "   '김재규 영화는 처음이닷. 이병헌 나오면 봐야지. 연기는 지존 ㅋㅋ ',\n",
       "   'jogu****',\n",
       "   '19.02.04',\n",
       "   'https://movie.naver.com/movie/point/af/list.nhn?st=mcode&sword=176306&target=before'],\n",
       "  [2365199,\n",
       "   '시스터스 브라더스',\n",
       "   1,\n",
       "   '영화를 본 사람이면 평점알바가 있다는 사실을 알게될것이다 ',\n",
       "   'abra****',\n",
       "   '19.02.04',\n",
       "   'https://movie.naver.com/movie/point/af/list.nhn?st=mcode&sword=176306&target=before'],\n",
       "  [2365197,\n",
       "   '대결',\n",
       "   10,\n",
       "   '다시봐도 몰입감과 공포감이 장난 아님. 1시간 30분의 영화인데 몰입하고나니 순식간에 지나감ㅋㅋ 역시 스필버그는 스필버그야 ㄹㅇ ',\n",
       "   'dani****',\n",
       "   '19.02.04',\n",
       "   'https://movie.naver.com/movie/point/af/list.nhn?st=mcode&sword=176306&target=before'],\n",
       "  [2365196,\n",
       "   '레플리카',\n",
       "   9,\n",
       "   '공상영화 좋아하는 사람이라면 재밌게 볼 영화 입니다. 지루하지 않고 간만에 좋은 영화 본거 같네요. 취향에 따라 좀 갈릴수는 있겠네요. 볼만 합니다. ',\n",
       "   'sunw****',\n",
       "   '19.02.04',\n",
       "   'https://movie.naver.com/movie/point/af/list.nhn?st=mcode&sword=176306&target=before'],\n",
       "  [2365195,\n",
       "   '바다의 침묵',\n",
       "   9,\n",
       "   '서로에 대한 존중이란 무엇인지 가르쳐 주는 작품. ',\n",
       "   'clie****',\n",
       "   '19.02.04',\n",
       "   'https://movie.naver.com/movie/point/af/list.nhn?st=mcode&sword=176306&target=before'],\n",
       "  [2365194,\n",
       "   '알리타: 배틀 엔젤',\n",
       "   10,\n",
       "   '알리타를 보기전까지 내 인생영화는 아바타였는데 알리타로 바꼈다? 제임스 카메론은 진짜 천재 그이상. ',\n",
       "   'bamc****',\n",
       "   '19.02.04',\n",
       "   'https://movie.naver.com/movie/point/af/list.nhn?st=mcode&sword=176306&target=before'],\n",
       "  [2365193,\n",
       "   '기묘한 가족',\n",
       "   9,\n",
       "   '병맛잼ㅇㅈ!! 김남길 정재영 넘 좋아ㅠ ',\n",
       "   'y3wn****',\n",
       "   '19.02.04',\n",
       "   'https://movie.naver.com/movie/point/af/list.nhn?st=mcode&sword=176306&target=before'],\n",
       "  [2365192,\n",
       "   '콜드 체이싱',\n",
       "   8,\n",
       "   '냉혹한 아버지의 복수극을 그렸다는 스타일리쉬 폭주액션이 짜릿한 카타르시스를 선사할 것으로 액션광으로서 무척  기대되네요 ',\n",
       "   'asia****',\n",
       "   '19.02.04',\n",
       "   'https://movie.naver.com/movie/point/af/list.nhn?st=mcode&sword=176306&target=before'],\n",
       "  [2365191,\n",
       "   '캡틴 마블',\n",
       "   1,\n",
       "   '민준국:내가 왜 브리라슨을 죽였는지 알아?! 꼴페미년이 함부로 주둥아리를  나불대서 그래 만일 니들이 페미질을 한다면 죽일거야 그리고 너희가족,부모들도 다죽일거고 ',\n",
       "   'yang****',\n",
       "   '19.02.04',\n",
       "   'https://movie.naver.com/movie/point/af/list.nhn?st=mcode&sword=176306&target=before'],\n",
       "  [2365190,\n",
       "   '증인',\n",
       "   1,\n",
       "   '공익제보자 신재민이 변호를 간청했는 데  단칼에 거부한 집단아냐? 민변! 영화를 동원해서 \"민변비어천가\" 빨아 줄 일이 있나 보지? ',\n",
       "   'hsd2****',\n",
       "   '19.02.04',\n",
       "   'https://movie.naver.com/movie/point/af/list.nhn?st=mcode&sword=176306&target=before']],\n",
       " [[2365200,\n",
       "   '남산의 부장들',\n",
       "   10,\n",
       "   '김재규 영화는 처음이닷. 이병헌 나오면 봐야지. 연기는 지존 ㅋㅋ ',\n",
       "   'jogu****',\n",
       "   '19.02.04',\n",
       "   'https://movie.naver.com/movie/point/af/list.nhn?st=mcode&sword=176306&target=before'],\n",
       "  [2365199,\n",
       "   '시스터스 브라더스',\n",
       "   1,\n",
       "   '영화를 본 사람이면 평점알바가 있다는 사실을 알게될것이다 ',\n",
       "   'abra****',\n",
       "   '19.02.04',\n",
       "   'https://movie.naver.com/movie/point/af/list.nhn?st=mcode&sword=176306&target=before'],\n",
       "  [2365197,\n",
       "   '대결',\n",
       "   10,\n",
       "   '다시봐도 몰입감과 공포감이 장난 아님. 1시간 30분의 영화인데 몰입하고나니 순식간에 지나감ㅋㅋ 역시 스필버그는 스필버그야 ㄹㅇ ',\n",
       "   'dani****',\n",
       "   '19.02.04',\n",
       "   'https://movie.naver.com/movie/point/af/list.nhn?st=mcode&sword=176306&target=before'],\n",
       "  [2365196,\n",
       "   '레플리카',\n",
       "   9,\n",
       "   '공상영화 좋아하는 사람이라면 재밌게 볼 영화 입니다. 지루하지 않고 간만에 좋은 영화 본거 같네요. 취향에 따라 좀 갈릴수는 있겠네요. 볼만 합니다. ',\n",
       "   'sunw****',\n",
       "   '19.02.04',\n",
       "   'https://movie.naver.com/movie/point/af/list.nhn?st=mcode&sword=176306&target=before'],\n",
       "  [2365195,\n",
       "   '바다의 침묵',\n",
       "   9,\n",
       "   '서로에 대한 존중이란 무엇인지 가르쳐 주는 작품. ',\n",
       "   'clie****',\n",
       "   '19.02.04',\n",
       "   'https://movie.naver.com/movie/point/af/list.nhn?st=mcode&sword=176306&target=before'],\n",
       "  [2365194,\n",
       "   '알리타: 배틀 엔젤',\n",
       "   10,\n",
       "   '알리타를 보기전까지 내 인생영화는 아바타였는데 알리타로 바꼈다? 제임스 카메론은 진짜 천재 그이상. ',\n",
       "   'bamc****',\n",
       "   '19.02.04',\n",
       "   'https://movie.naver.com/movie/point/af/list.nhn?st=mcode&sword=176306&target=before'],\n",
       "  [2365193,\n",
       "   '기묘한 가족',\n",
       "   9,\n",
       "   '병맛잼ㅇㅈ!! 김남길 정재영 넘 좋아ㅠ ',\n",
       "   'y3wn****',\n",
       "   '19.02.04',\n",
       "   'https://movie.naver.com/movie/point/af/list.nhn?st=mcode&sword=176306&target=before'],\n",
       "  [2365192,\n",
       "   '콜드 체이싱',\n",
       "   8,\n",
       "   '냉혹한 아버지의 복수극을 그렸다는 스타일리쉬 폭주액션이 짜릿한 카타르시스를 선사할 것으로 액션광으로서 무척  기대되네요 ',\n",
       "   'asia****',\n",
       "   '19.02.04',\n",
       "   'https://movie.naver.com/movie/point/af/list.nhn?st=mcode&sword=176306&target=before'],\n",
       "  [2365191,\n",
       "   '캡틴 마블',\n",
       "   1,\n",
       "   '민준국:내가 왜 브리라슨을 죽였는지 알아?! 꼴페미년이 함부로 주둥아리를  나불대서 그래 만일 니들이 페미질을 한다면 죽일거야 그리고 너희가족,부모들도 다죽일거고 ',\n",
       "   'yang****',\n",
       "   '19.02.04',\n",
       "   'https://movie.naver.com/movie/point/af/list.nhn?st=mcode&sword=176306&target=before'],\n",
       "  [2365190,\n",
       "   '증인',\n",
       "   1,\n",
       "   '공익제보자 신재민이 변호를 간청했는 데  단칼에 거부한 집단아냐? 민변! 영화를 동원해서 \"민변비어천가\" 빨아 줄 일이 있나 보지? ',\n",
       "   'hsd2****',\n",
       "   '19.02.04',\n",
       "   'https://movie.naver.com/movie/point/af/list.nhn?st=mcode&sword=176306&target=before']]]"
      ]
     },
     "execution_count": 24,
     "metadata": {},
     "output_type": "execute_result"
    }
   ],
   "source": [
    "main_preview_list()"
   ]
  },
  {
   "cell_type": "code",
   "execution_count": 97,
   "metadata": {},
   "outputs": [
    {
     "ename": "WebDriverException",
     "evalue": "Message: unknown error: fnPagingMove is not defined\n  (Session info: chrome=71.0.3578.98)\n  (Driver info: chromedriver=2.45.615355 (d5698f682d8b2742017df6c81e0bd8e6a3063189),platform=Mac OS X 10.14.0 x86_64)\n",
     "output_type": "error",
     "traceback": [
      "\u001b[0;31m---------------------------------------------------------------------------\u001b[0m",
      "\u001b[0;31mWebDriverException\u001b[0m                        Traceback (most recent call last)",
      "\u001b[0;32m<ipython-input-97-3552276ac747>\u001b[0m in \u001b[0;36m<module>\u001b[0;34m\u001b[0m\n\u001b[0;32m----> 1\u001b[0;31m \u001b[0mch_driver\u001b[0m\u001b[0;34m.\u001b[0m\u001b[0mexecute_script\u001b[0m\u001b[0;34m(\u001b[0m\u001b[0;34m\"fnPagingMove(2);\"\u001b[0m\u001b[0;34m)\u001b[0m\u001b[0;34m\u001b[0m\u001b[0;34m\u001b[0m\u001b[0m\n\u001b[0m",
      "\u001b[0;32m/usr/local/lib/python3.7/site-packages/selenium/webdriver/remote/webdriver.py\u001b[0m in \u001b[0;36mexecute_script\u001b[0;34m(self, script, *args)\u001b[0m\n\u001b[1;32m    634\u001b[0m         return self.execute(command, {\n\u001b[1;32m    635\u001b[0m             \u001b[0;34m'script'\u001b[0m\u001b[0;34m:\u001b[0m \u001b[0mscript\u001b[0m\u001b[0;34m,\u001b[0m\u001b[0;34m\u001b[0m\u001b[0;34m\u001b[0m\u001b[0m\n\u001b[0;32m--> 636\u001b[0;31m             'args': converted_args})['value']\n\u001b[0m\u001b[1;32m    637\u001b[0m \u001b[0;34m\u001b[0m\u001b[0m\n\u001b[1;32m    638\u001b[0m     \u001b[0;32mdef\u001b[0m \u001b[0mexecute_async_script\u001b[0m\u001b[0;34m(\u001b[0m\u001b[0mself\u001b[0m\u001b[0;34m,\u001b[0m \u001b[0mscript\u001b[0m\u001b[0;34m,\u001b[0m \u001b[0;34m*\u001b[0m\u001b[0margs\u001b[0m\u001b[0;34m)\u001b[0m\u001b[0;34m:\u001b[0m\u001b[0;34m\u001b[0m\u001b[0;34m\u001b[0m\u001b[0m\n",
      "\u001b[0;32m/usr/local/lib/python3.7/site-packages/selenium/webdriver/remote/webdriver.py\u001b[0m in \u001b[0;36mexecute\u001b[0;34m(self, driver_command, params)\u001b[0m\n\u001b[1;32m    319\u001b[0m         \u001b[0mresponse\u001b[0m \u001b[0;34m=\u001b[0m \u001b[0mself\u001b[0m\u001b[0;34m.\u001b[0m\u001b[0mcommand_executor\u001b[0m\u001b[0;34m.\u001b[0m\u001b[0mexecute\u001b[0m\u001b[0;34m(\u001b[0m\u001b[0mdriver_command\u001b[0m\u001b[0;34m,\u001b[0m \u001b[0mparams\u001b[0m\u001b[0;34m)\u001b[0m\u001b[0;34m\u001b[0m\u001b[0;34m\u001b[0m\u001b[0m\n\u001b[1;32m    320\u001b[0m         \u001b[0;32mif\u001b[0m \u001b[0mresponse\u001b[0m\u001b[0;34m:\u001b[0m\u001b[0;34m\u001b[0m\u001b[0;34m\u001b[0m\u001b[0m\n\u001b[0;32m--> 321\u001b[0;31m             \u001b[0mself\u001b[0m\u001b[0;34m.\u001b[0m\u001b[0merror_handler\u001b[0m\u001b[0;34m.\u001b[0m\u001b[0mcheck_response\u001b[0m\u001b[0;34m(\u001b[0m\u001b[0mresponse\u001b[0m\u001b[0;34m)\u001b[0m\u001b[0;34m\u001b[0m\u001b[0;34m\u001b[0m\u001b[0m\n\u001b[0m\u001b[1;32m    322\u001b[0m             response['value'] = self._unwrap_value(\n\u001b[1;32m    323\u001b[0m                 response.get('value', None))\n",
      "\u001b[0;32m/usr/local/lib/python3.7/site-packages/selenium/webdriver/remote/errorhandler.py\u001b[0m in \u001b[0;36mcheck_response\u001b[0;34m(self, response)\u001b[0m\n\u001b[1;32m    240\u001b[0m                 \u001b[0malert_text\u001b[0m \u001b[0;34m=\u001b[0m \u001b[0mvalue\u001b[0m\u001b[0;34m[\u001b[0m\u001b[0;34m'alert'\u001b[0m\u001b[0;34m]\u001b[0m\u001b[0;34m.\u001b[0m\u001b[0mget\u001b[0m\u001b[0;34m(\u001b[0m\u001b[0;34m'text'\u001b[0m\u001b[0;34m)\u001b[0m\u001b[0;34m\u001b[0m\u001b[0;34m\u001b[0m\u001b[0m\n\u001b[1;32m    241\u001b[0m             \u001b[0;32mraise\u001b[0m \u001b[0mexception_class\u001b[0m\u001b[0;34m(\u001b[0m\u001b[0mmessage\u001b[0m\u001b[0;34m,\u001b[0m \u001b[0mscreen\u001b[0m\u001b[0;34m,\u001b[0m \u001b[0mstacktrace\u001b[0m\u001b[0;34m,\u001b[0m \u001b[0malert_text\u001b[0m\u001b[0;34m)\u001b[0m\u001b[0;34m\u001b[0m\u001b[0;34m\u001b[0m\u001b[0m\n\u001b[0;32m--> 242\u001b[0;31m         \u001b[0;32mraise\u001b[0m \u001b[0mexception_class\u001b[0m\u001b[0;34m(\u001b[0m\u001b[0mmessage\u001b[0m\u001b[0;34m,\u001b[0m \u001b[0mscreen\u001b[0m\u001b[0;34m,\u001b[0m \u001b[0mstacktrace\u001b[0m\u001b[0;34m)\u001b[0m\u001b[0;34m\u001b[0m\u001b[0;34m\u001b[0m\u001b[0m\n\u001b[0m\u001b[1;32m    243\u001b[0m \u001b[0;34m\u001b[0m\u001b[0m\n\u001b[1;32m    244\u001b[0m     \u001b[0;32mdef\u001b[0m \u001b[0m_value_or_default\u001b[0m\u001b[0;34m(\u001b[0m\u001b[0mself\u001b[0m\u001b[0;34m,\u001b[0m \u001b[0mobj\u001b[0m\u001b[0;34m,\u001b[0m \u001b[0mkey\u001b[0m\u001b[0;34m,\u001b[0m \u001b[0mdefault\u001b[0m\u001b[0;34m)\u001b[0m\u001b[0;34m:\u001b[0m\u001b[0;34m\u001b[0m\u001b[0;34m\u001b[0m\u001b[0m\n",
      "\u001b[0;31mWebDriverException\u001b[0m: Message: unknown error: fnPagingMove is not defined\n  (Session info: chrome=71.0.3578.98)\n  (Driver info: chromedriver=2.45.615355 (d5698f682d8b2742017df6c81e0bd8e6a3063189),platform=Mac OS X 10.14.0 x86_64)\n"
     ]
    }
   ],
   "source": []
  },
  {
   "cell_type": "code",
   "execution_count": 45,
   "metadata": {},
   "outputs": [],
   "source": [
    "# 수정수정수정!!!!!!\n",
    "\n",
    "def get_url(url):\n",
    "    response = requests.get(url)\n",
    "    html = response.text\n",
    "    soup = BeautifulSoup(html, \"lxml\")\n",
    "    table = soup.find('table', attrs={'class':'list_netizen b_star'})\n",
    "    page_result = table.find_all('tr')\n",
    "    \n",
    "    return page_result"
   ]
  },
  {
   "cell_type": "code",
   "execution_count": 49,
   "metadata": {},
   "outputs": [],
   "source": [
    "# 수정수정수정!!!!!!\n",
    "def main_preview_list():\n",
    "    all_main_result = []\n",
    "\n",
    "    ch_driver.implicitly_wait(5)\n",
    "\n",
    "\n",
    "    for i in range(1, 3+1):\n",
    "        url = \"https://movie.naver.com/movie/point/af/list.nhn?target=before&page=\"+str(i)\n",
    "        get_url(url)\n",
    "        result_list = main_result()\n",
    "        all_main_result.append(result_list)\n",
    "\n",
    "        sleep(10)\n",
    "    \n",
    "    return all_main_result"
   ]
  },
  {
   "cell_type": "code",
   "execution_count": 50,
   "metadata": {},
   "outputs": [
    {
     "data": {
      "text/plain": [
       "[[[2365204,\n",
       "   '형님 아내4 - 우주공주 춘향 -',\n",
       "   1,\n",
       "   '자연산이 보고 싶다... ',\n",
       "   'adiv****',\n",
       "   '19.02.04',\n",
       "   'https://movie.naver.com/movie/point/af/list.nhn?st=mcode&sword=173505&target=before'],\n",
       "  [2365203,\n",
       "   '남산의 부장들',\n",
       "   10,\n",
       "   '유진초이 기다렸다 ! 김재규를 연기하는 이병헌이라~ 연기자들도 빵빵하네. 기대됨. ',\n",
       "   'jogu****',\n",
       "   '19.02.04',\n",
       "   'https://movie.naver.com/movie/point/af/list.nhn?st=mcode&sword=173505&target=before'],\n",
       "  [2365201,\n",
       "   '신밧드와 마법 양탄자',\n",
       "   10,\n",
       "   '신밧드와 마법 양탄자의 신나는 모험 이야기를.보고 싶어요~ 동화를 영화로ㅠ만날 수 있어서 좋네요♡ ',\n",
       "   'js05****',\n",
       "   '19.02.04',\n",
       "   'https://movie.naver.com/movie/point/af/list.nhn?st=mcode&sword=173505&target=before'],\n",
       "  [2365199,\n",
       "   '시스터스 브라더스',\n",
       "   1,\n",
       "   '영화를 본 사람이면 평점알바가 있다는 사실을 알게될것이다 ',\n",
       "   'abra****',\n",
       "   '19.02.04',\n",
       "   'https://movie.naver.com/movie/point/af/list.nhn?st=mcode&sword=173505&target=before'],\n",
       "  [2365197,\n",
       "   '대결',\n",
       "   10,\n",
       "   '다시봐도 몰입감과 공포감이 장난 아님. 1시간 30분의 영화인데 몰입하고나니 순식간에 지나감ㅋㅋ 역시 스필버그는 스필버그야 ㄹㅇ ',\n",
       "   'dani****',\n",
       "   '19.02.04',\n",
       "   'https://movie.naver.com/movie/point/af/list.nhn?st=mcode&sword=173505&target=before'],\n",
       "  [2365196,\n",
       "   '레플리카',\n",
       "   9,\n",
       "   '공상영화 좋아하는 사람이라면 재밌게 볼 영화 입니다. 지루하지 않고 간만에 좋은 영화 본거 같네요. 취향에 따라 좀 갈릴수는 있겠네요. 볼만 합니다. ',\n",
       "   'sunw****',\n",
       "   '19.02.04',\n",
       "   'https://movie.naver.com/movie/point/af/list.nhn?st=mcode&sword=173505&target=before'],\n",
       "  [2365195,\n",
       "   '바다의 침묵',\n",
       "   9,\n",
       "   '서로에 대한 존중이란 무엇인지 가르쳐 주는 작품. ',\n",
       "   'clie****',\n",
       "   '19.02.04',\n",
       "   'https://movie.naver.com/movie/point/af/list.nhn?st=mcode&sword=173505&target=before'],\n",
       "  [2365194,\n",
       "   '알리타: 배틀 엔젤',\n",
       "   10,\n",
       "   '알리타를 보기전까지 내 인생영화는 아바타였는데 알리타로 바꼈다? 제임스 카메론은 진짜 천재 그이상. ',\n",
       "   'bamc****',\n",
       "   '19.02.04',\n",
       "   'https://movie.naver.com/movie/point/af/list.nhn?st=mcode&sword=173505&target=before'],\n",
       "  [2365193,\n",
       "   '기묘한 가족',\n",
       "   9,\n",
       "   '병맛잼ㅇㅈ!! 김남길 정재영 넘 좋아ㅠ ',\n",
       "   'y3wn****',\n",
       "   '19.02.04',\n",
       "   'https://movie.naver.com/movie/point/af/list.nhn?st=mcode&sword=173505&target=before'],\n",
       "  [2365192,\n",
       "   '콜드 체이싱',\n",
       "   8,\n",
       "   '냉혹한 아버지의 복수극을 그렸다는 스타일리쉬 폭주액션이 짜릿한 카타르시스를 선사할 것으로 액션광으로서 무척  기대되네요 ',\n",
       "   'asia****',\n",
       "   '19.02.04',\n",
       "   'https://movie.naver.com/movie/point/af/list.nhn?st=mcode&sword=173505&target=before']],\n",
       " [[2365204,\n",
       "   '형님 아내4 - 우주공주 춘향 -',\n",
       "   1,\n",
       "   '자연산이 보고 싶다... ',\n",
       "   'adiv****',\n",
       "   '19.02.04',\n",
       "   'https://movie.naver.com/movie/point/af/list.nhn?st=mcode&sword=173505&target=before'],\n",
       "  [2365203,\n",
       "   '남산의 부장들',\n",
       "   10,\n",
       "   '유진초이 기다렸다 ! 김재규를 연기하는 이병헌이라~ 연기자들도 빵빵하네. 기대됨. ',\n",
       "   'jogu****',\n",
       "   '19.02.04',\n",
       "   'https://movie.naver.com/movie/point/af/list.nhn?st=mcode&sword=173505&target=before'],\n",
       "  [2365201,\n",
       "   '신밧드와 마법 양탄자',\n",
       "   10,\n",
       "   '신밧드와 마법 양탄자의 신나는 모험 이야기를.보고 싶어요~ 동화를 영화로ㅠ만날 수 있어서 좋네요♡ ',\n",
       "   'js05****',\n",
       "   '19.02.04',\n",
       "   'https://movie.naver.com/movie/point/af/list.nhn?st=mcode&sword=173505&target=before'],\n",
       "  [2365199,\n",
       "   '시스터스 브라더스',\n",
       "   1,\n",
       "   '영화를 본 사람이면 평점알바가 있다는 사실을 알게될것이다 ',\n",
       "   'abra****',\n",
       "   '19.02.04',\n",
       "   'https://movie.naver.com/movie/point/af/list.nhn?st=mcode&sword=173505&target=before'],\n",
       "  [2365197,\n",
       "   '대결',\n",
       "   10,\n",
       "   '다시봐도 몰입감과 공포감이 장난 아님. 1시간 30분의 영화인데 몰입하고나니 순식간에 지나감ㅋㅋ 역시 스필버그는 스필버그야 ㄹㅇ ',\n",
       "   'dani****',\n",
       "   '19.02.04',\n",
       "   'https://movie.naver.com/movie/point/af/list.nhn?st=mcode&sword=173505&target=before'],\n",
       "  [2365196,\n",
       "   '레플리카',\n",
       "   9,\n",
       "   '공상영화 좋아하는 사람이라면 재밌게 볼 영화 입니다. 지루하지 않고 간만에 좋은 영화 본거 같네요. 취향에 따라 좀 갈릴수는 있겠네요. 볼만 합니다. ',\n",
       "   'sunw****',\n",
       "   '19.02.04',\n",
       "   'https://movie.naver.com/movie/point/af/list.nhn?st=mcode&sword=173505&target=before'],\n",
       "  [2365195,\n",
       "   '바다의 침묵',\n",
       "   9,\n",
       "   '서로에 대한 존중이란 무엇인지 가르쳐 주는 작품. ',\n",
       "   'clie****',\n",
       "   '19.02.04',\n",
       "   'https://movie.naver.com/movie/point/af/list.nhn?st=mcode&sword=173505&target=before'],\n",
       "  [2365194,\n",
       "   '알리타: 배틀 엔젤',\n",
       "   10,\n",
       "   '알리타를 보기전까지 내 인생영화는 아바타였는데 알리타로 바꼈다? 제임스 카메론은 진짜 천재 그이상. ',\n",
       "   'bamc****',\n",
       "   '19.02.04',\n",
       "   'https://movie.naver.com/movie/point/af/list.nhn?st=mcode&sword=173505&target=before'],\n",
       "  [2365193,\n",
       "   '기묘한 가족',\n",
       "   9,\n",
       "   '병맛잼ㅇㅈ!! 김남길 정재영 넘 좋아ㅠ ',\n",
       "   'y3wn****',\n",
       "   '19.02.04',\n",
       "   'https://movie.naver.com/movie/point/af/list.nhn?st=mcode&sword=173505&target=before'],\n",
       "  [2365192,\n",
       "   '콜드 체이싱',\n",
       "   8,\n",
       "   '냉혹한 아버지의 복수극을 그렸다는 스타일리쉬 폭주액션이 짜릿한 카타르시스를 선사할 것으로 액션광으로서 무척  기대되네요 ',\n",
       "   'asia****',\n",
       "   '19.02.04',\n",
       "   'https://movie.naver.com/movie/point/af/list.nhn?st=mcode&sword=173505&target=before']],\n",
       " [[2365204,\n",
       "   '형님 아내4 - 우주공주 춘향 -',\n",
       "   1,\n",
       "   '자연산이 보고 싶다... ',\n",
       "   'adiv****',\n",
       "   '19.02.04',\n",
       "   'https://movie.naver.com/movie/point/af/list.nhn?st=mcode&sword=173505&target=before'],\n",
       "  [2365203,\n",
       "   '남산의 부장들',\n",
       "   10,\n",
       "   '유진초이 기다렸다 ! 김재규를 연기하는 이병헌이라~ 연기자들도 빵빵하네. 기대됨. ',\n",
       "   'jogu****',\n",
       "   '19.02.04',\n",
       "   'https://movie.naver.com/movie/point/af/list.nhn?st=mcode&sword=173505&target=before'],\n",
       "  [2365201,\n",
       "   '신밧드와 마법 양탄자',\n",
       "   10,\n",
       "   '신밧드와 마법 양탄자의 신나는 모험 이야기를.보고 싶어요~ 동화를 영화로ㅠ만날 수 있어서 좋네요♡ ',\n",
       "   'js05****',\n",
       "   '19.02.04',\n",
       "   'https://movie.naver.com/movie/point/af/list.nhn?st=mcode&sword=173505&target=before'],\n",
       "  [2365199,\n",
       "   '시스터스 브라더스',\n",
       "   1,\n",
       "   '영화를 본 사람이면 평점알바가 있다는 사실을 알게될것이다 ',\n",
       "   'abra****',\n",
       "   '19.02.04',\n",
       "   'https://movie.naver.com/movie/point/af/list.nhn?st=mcode&sword=173505&target=before'],\n",
       "  [2365197,\n",
       "   '대결',\n",
       "   10,\n",
       "   '다시봐도 몰입감과 공포감이 장난 아님. 1시간 30분의 영화인데 몰입하고나니 순식간에 지나감ㅋㅋ 역시 스필버그는 스필버그야 ㄹㅇ ',\n",
       "   'dani****',\n",
       "   '19.02.04',\n",
       "   'https://movie.naver.com/movie/point/af/list.nhn?st=mcode&sword=173505&target=before'],\n",
       "  [2365196,\n",
       "   '레플리카',\n",
       "   9,\n",
       "   '공상영화 좋아하는 사람이라면 재밌게 볼 영화 입니다. 지루하지 않고 간만에 좋은 영화 본거 같네요. 취향에 따라 좀 갈릴수는 있겠네요. 볼만 합니다. ',\n",
       "   'sunw****',\n",
       "   '19.02.04',\n",
       "   'https://movie.naver.com/movie/point/af/list.nhn?st=mcode&sword=173505&target=before'],\n",
       "  [2365195,\n",
       "   '바다의 침묵',\n",
       "   9,\n",
       "   '서로에 대한 존중이란 무엇인지 가르쳐 주는 작품. ',\n",
       "   'clie****',\n",
       "   '19.02.04',\n",
       "   'https://movie.naver.com/movie/point/af/list.nhn?st=mcode&sword=173505&target=before'],\n",
       "  [2365194,\n",
       "   '알리타: 배틀 엔젤',\n",
       "   10,\n",
       "   '알리타를 보기전까지 내 인생영화는 아바타였는데 알리타로 바꼈다? 제임스 카메론은 진짜 천재 그이상. ',\n",
       "   'bamc****',\n",
       "   '19.02.04',\n",
       "   'https://movie.naver.com/movie/point/af/list.nhn?st=mcode&sword=173505&target=before'],\n",
       "  [2365193,\n",
       "   '기묘한 가족',\n",
       "   9,\n",
       "   '병맛잼ㅇㅈ!! 김남길 정재영 넘 좋아ㅠ ',\n",
       "   'y3wn****',\n",
       "   '19.02.04',\n",
       "   'https://movie.naver.com/movie/point/af/list.nhn?st=mcode&sword=173505&target=before'],\n",
       "  [2365192,\n",
       "   '콜드 체이싱',\n",
       "   8,\n",
       "   '냉혹한 아버지의 복수극을 그렸다는 스타일리쉬 폭주액션이 짜릿한 카타르시스를 선사할 것으로 액션광으로서 무척  기대되네요 ',\n",
       "   'asia****',\n",
       "   '19.02.04',\n",
       "   'https://movie.naver.com/movie/point/af/list.nhn?st=mcode&sword=173505&target=before']]]"
      ]
     },
     "execution_count": 50,
     "metadata": {},
     "output_type": "execute_result"
    }
   ],
   "source": [
    "main_preview_list()"
   ]
  },
  {
   "cell_type": "code",
   "execution_count": 54,
   "metadata": {},
   "outputs": [
    {
     "data": {
      "text/plain": [
       "[[2365204,\n",
       "  '형님 아내4 - 우주공주 춘향 -',\n",
       "  1,\n",
       "  '자연산이 보고 싶다... ',\n",
       "  'adiv****',\n",
       "  '19.02.04',\n",
       "  'https://movie.naver.com/movie/point/af/list.nhn?st=mcode&sword=173505&target=before'],\n",
       " [2365203,\n",
       "  '남산의 부장들',\n",
       "  10,\n",
       "  '유진초이 기다렸다 ! 김재규를 연기하는 이병헌이라~ 연기자들도 빵빵하네. 기대됨. ',\n",
       "  'jogu****',\n",
       "  '19.02.04',\n",
       "  'https://movie.naver.com/movie/point/af/list.nhn?st=mcode&sword=173505&target=before'],\n",
       " [2365201,\n",
       "  '신밧드와 마법 양탄자',\n",
       "  10,\n",
       "  '신밧드와 마법 양탄자의 신나는 모험 이야기를.보고 싶어요~ 동화를 영화로ㅠ만날 수 있어서 좋네요♡ ',\n",
       "  'js05****',\n",
       "  '19.02.04',\n",
       "  'https://movie.naver.com/movie/point/af/list.nhn?st=mcode&sword=173505&target=before'],\n",
       " [2365199,\n",
       "  '시스터스 브라더스',\n",
       "  1,\n",
       "  '영화를 본 사람이면 평점알바가 있다는 사실을 알게될것이다 ',\n",
       "  'abra****',\n",
       "  '19.02.04',\n",
       "  'https://movie.naver.com/movie/point/af/list.nhn?st=mcode&sword=173505&target=before'],\n",
       " [2365197,\n",
       "  '대결',\n",
       "  10,\n",
       "  '다시봐도 몰입감과 공포감이 장난 아님. 1시간 30분의 영화인데 몰입하고나니 순식간에 지나감ㅋㅋ 역시 스필버그는 스필버그야 ㄹㅇ ',\n",
       "  'dani****',\n",
       "  '19.02.04',\n",
       "  'https://movie.naver.com/movie/point/af/list.nhn?st=mcode&sword=173505&target=before'],\n",
       " [2365196,\n",
       "  '레플리카',\n",
       "  9,\n",
       "  '공상영화 좋아하는 사람이라면 재밌게 볼 영화 입니다. 지루하지 않고 간만에 좋은 영화 본거 같네요. 취향에 따라 좀 갈릴수는 있겠네요. 볼만 합니다. ',\n",
       "  'sunw****',\n",
       "  '19.02.04',\n",
       "  'https://movie.naver.com/movie/point/af/list.nhn?st=mcode&sword=173505&target=before'],\n",
       " [2365195,\n",
       "  '바다의 침묵',\n",
       "  9,\n",
       "  '서로에 대한 존중이란 무엇인지 가르쳐 주는 작품. ',\n",
       "  'clie****',\n",
       "  '19.02.04',\n",
       "  'https://movie.naver.com/movie/point/af/list.nhn?st=mcode&sword=173505&target=before'],\n",
       " [2365194,\n",
       "  '알리타: 배틀 엔젤',\n",
       "  10,\n",
       "  '알리타를 보기전까지 내 인생영화는 아바타였는데 알리타로 바꼈다? 제임스 카메론은 진짜 천재 그이상. ',\n",
       "  'bamc****',\n",
       "  '19.02.04',\n",
       "  'https://movie.naver.com/movie/point/af/list.nhn?st=mcode&sword=173505&target=before'],\n",
       " [2365193,\n",
       "  '기묘한 가족',\n",
       "  9,\n",
       "  '병맛잼ㅇㅈ!! 김남길 정재영 넘 좋아ㅠ ',\n",
       "  'y3wn****',\n",
       "  '19.02.04',\n",
       "  'https://movie.naver.com/movie/point/af/list.nhn?st=mcode&sword=173505&target=before'],\n",
       " [2365192,\n",
       "  '콜드 체이싱',\n",
       "  8,\n",
       "  '냉혹한 아버지의 복수극을 그렸다는 스타일리쉬 폭주액션이 짜릿한 카타르시스를 선사할 것으로 액션광으로서 무척  기대되네요 ',\n",
       "  'asia****',\n",
       "  '19.02.04',\n",
       "  'https://movie.naver.com/movie/point/af/list.nhn?st=mcode&sword=173505&target=before']]"
      ]
     },
     "execution_count": 54,
     "metadata": {},
     "output_type": "execute_result"
    }
   ],
   "source": [
    "main_result()"
   ]
  },
  {
   "cell_type": "code",
   "execution_count": null,
   "metadata": {},
   "outputs": [],
   "source": []
  }
 ],
 "metadata": {
  "kernelspec": {
   "display_name": "Python 3",
   "language": "python",
   "name": "python3"
  },
  "language_info": {
   "codemirror_mode": {
    "name": "ipython",
    "version": 3
   },
   "file_extension": ".py",
   "mimetype": "text/x-python",
   "name": "python",
   "nbconvert_exporter": "python",
   "pygments_lexer": "ipython3",
   "version": "3.7.2"
  }
 },
 "nbformat": 4,
 "nbformat_minor": 2
}
